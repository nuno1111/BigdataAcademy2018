{
 "cells": [
  {
   "cell_type": "markdown",
   "metadata": {},
   "source": [
    "# 9. 조건문과 반복문, 함수정의"
   ]
  },
  {
   "cell_type": "markdown",
   "metadata": {},
   "source": [
    "### 9.1 if, elif, else 조건문\n",
    "* if문\n",
    "    ```python\n",
    "        if 조건 :\n",
    "            실행코드\n",
    "    ```\n",
    "* if else문\n",
    "    ```python\n",
    "        if 조건 :\n",
    "            실행코드\n",
    "        else:\n",
    "            실행코드\n",
    "    ```\n",
    "* if elif 문\n",
    "    ```python\n",
    "        if 조건1 :\n",
    "            실행코드\n",
    "        elif 조건2:\n",
    "            실행코드\n",
    "        else:\n",
    "           실행코드\n",
    "    ```"
   ]
  },
  {
   "cell_type": "code",
   "execution_count": 1,
   "metadata": {},
   "outputs": [],
   "source": [
    "x = 1"
   ]
  },
  {
   "cell_type": "code",
   "execution_count": 2,
   "metadata": {},
   "outputs": [
    {
     "name": "stdout",
     "output_type": "stream",
     "text": [
      "It is positive\n"
     ]
    }
   ],
   "source": [
    "if x > 0:\n",
    "    print('It is positive')\n",
    "else:\n",
    "    pass"
   ]
  },
  {
   "cell_type": "code",
   "execution_count": 3,
   "metadata": {},
   "outputs": [
    {
     "name": "stdout",
     "output_type": "stream",
     "text": [
      "It is negative\n"
     ]
    }
   ],
   "source": [
    "x = -5\n",
    "if x > 0:\n",
    "    print('It is positive')\n",
    "else:\n",
    "    print('It is negative')"
   ]
  },
  {
   "cell_type": "code",
   "execution_count": 4,
   "metadata": {},
   "outputs": [
    {
     "name": "stdout",
     "output_type": "stream",
     "text": [
      "Equal to or lager than 5\n"
     ]
    }
   ],
   "source": [
    "x = 100\n",
    "if x < 0:\n",
    "    print('It is negative')\n",
    "elif 0< x <5:\n",
    "    print('Positive but smaller than 5')\n",
    "else:\n",
    "    print('Equal to or lager than 5')"
   ]
  },
  {
   "cell_type": "code",
   "execution_count": null,
   "metadata": {
    "collapsed": true
   },
   "outputs": [],
   "source": []
  },
  {
   "cell_type": "markdown",
   "metadata": {},
   "source": [
    "### 9.2 for, while 반복문"
   ]
  },
  {
   "cell_type": "markdown",
   "metadata": {},
   "source": [
    "* for 구문\n",
    " 컬렉션으로부터 요소(element)를 하나씩 가져와서, 루프 내의 문장들을 실행하는 것.\n",
    " \n",
    " 리스트, 튜플, 문자열 등의 컬렉션: \n",
    "```python\n",
    " for 요소 변수 in 컬렉션:\n",
    "     실행 코드\n",
    "```"
   ]
  },
  {
   "cell_type": "markdown",
   "metadata": {},
   "source": [
    "* 반복문과 직접적인 연관은 없지만, 많이 연동되어 사용되는 __range__\n",
    "\n",
    "--------------------------------------------\n",
    "|예제           | 파라미터의 의미   | 반환 값        |\n",
    "|:---          |:---             |:---           |\n",
    "| range(3)     | Stop            | 0, 1, 2       |\n",
    "| range(3, 6)  | Start, Stop     | 3, 4, 5       | \n",
    "| range(2,11,2)|Start, Stop, Step| 2, 4, 6, 8, 10|\n",
    "\n",
    "-----------------------------------------------------------    "
   ]
  },
  {
   "cell_type": "code",
   "execution_count": 5,
   "metadata": {},
   "outputs": [
    {
     "data": {
      "text/plain": [
       "range(0, 3)"
      ]
     },
     "execution_count": 5,
     "metadata": {},
     "output_type": "execute_result"
    }
   ],
   "source": [
    "range(3)"
   ]
  },
  {
   "cell_type": "code",
   "execution_count": 6,
   "metadata": {},
   "outputs": [
    {
     "name": "stdout",
     "output_type": "stream",
     "text": [
      "0\n",
      "1\n",
      "2\n",
      "3\n",
      "4\n"
     ]
    }
   ],
   "source": [
    "# for 구문 기초\n",
    "for i in range(5):\n",
    "    print(i)"
   ]
  },
  {
   "cell_type": "code",
   "execution_count": 7,
   "metadata": {},
   "outputs": [
    {
     "name": "stdout",
     "output_type": "stream",
     "text": [
      "3\n",
      "4\n",
      "5\n"
     ]
    }
   ],
   "source": [
    "for i in range(3, 6):\n",
    "    print(i)"
   ]
  },
  {
   "cell_type": "code",
   "execution_count": 8,
   "metadata": {},
   "outputs": [
    {
     "name": "stdout",
     "output_type": "stream",
     "text": [
      "2\n",
      "4\n",
      "6\n",
      "8\n",
      "10\n"
     ]
    }
   ],
   "source": [
    "for i in range(2, 11, 2):\n",
    "    print(i)"
   ]
  },
  {
   "cell_type": "code",
   "execution_count": 9,
   "metadata": {},
   "outputs": [
    {
     "name": "stdout",
     "output_type": "stream",
     "text": [
      "10\n"
     ]
    }
   ],
   "source": [
    "# list의 값을 이용한 for 구문\n",
    "x = [1, 2, 3, 4]\n",
    "total = 0\n",
    "for i in range(len(x)):\n",
    "    total = total + x[i]\n",
    "print(total)"
   ]
  },
  {
   "cell_type": "markdown",
   "metadata": {},
   "source": [
    "#### range, 데이터(data), enumerate(데이터) 의 차이\n",
    "```python\n",
    "for i in range(숫자): #i : 숫자 범위 내에서의 값\n",
    "    print(data[i])   #data의 i번째 element를 출력\n",
    "\n",
    "for v in data: #v : data의 element\n",
    "    print(v)   #data의 element를 순서대로 하나씩 출력\n",
    "    \n",
    "for i, v in enumerate(data): #enumerate(): data의 index와 element를 반환\n",
    "    print(i)                 #i : data의 element의 index\n",
    "    print(v)                 #v : data의 element\n",
    "```"
   ]
  },
  {
   "cell_type": "code",
   "execution_count": 10,
   "metadata": {},
   "outputs": [
    {
     "name": "stdout",
     "output_type": "stream",
     "text": [
      "10\n"
     ]
    }
   ],
   "source": [
    "# 간단한 코드\n",
    "total = 0\n",
    "for values in x:\n",
    "    total += values\n",
    "print(total)"
   ]
  },
  {
   "cell_type": "code",
   "execution_count": 11,
   "metadata": {},
   "outputs": [
    {
     "name": "stdout",
     "output_type": "stream",
     "text": [
      "문자는 a 입니다.\n",
      "문자는 b 입니다.\n",
      "문자는 c 입니다.\n",
      "문자는 d 입니다.\n",
      "문자는 e 입니다.\n"
     ]
    }
   ],
   "source": [
    "char_list = ['a', 'b', 'c', 'd', 'e']\n",
    "for i in char_list:\n",
    "    print('문자는', i, '입니다.')"
   ]
  },
  {
   "cell_type": "code",
   "execution_count": 12,
   "metadata": {},
   "outputs": [
    {
     "name": "stdout",
     "output_type": "stream",
     "text": [
      "0 번째 문자는 a 입니다.\n",
      "1 번째 문자는 b 입니다.\n",
      "2 번째 문자는 c 입니다.\n",
      "3 번째 문자는 d 입니다.\n",
      "4 번째 문자는 e 입니다.\n"
     ]
    }
   ],
   "source": [
    "char_list = ['a', 'b', 'c', 'd', 'e']\n",
    "for i, c in enumerate(char_list):\n",
    "    print(i, '번째 문자는', c, '입니다.')"
   ]
  },
  {
   "cell_type": "code",
   "execution_count": null,
   "metadata": {
    "collapsed": true
   },
   "outputs": [],
   "source": []
  },
  {
   "cell_type": "code",
   "execution_count": 13,
   "metadata": {},
   "outputs": [
    {
     "name": "stdout",
     "output_type": "stream",
     "text": [
      "--------------------\n",
      "[2, 4, 6, 8, 10]\n"
     ]
    }
   ],
   "source": [
    "## For 구문\n",
    "num_list = [1, 2, 3, 4, 5]\n",
    "total = []\n",
    "for n in num_list:\n",
    "    total.append(n * 2)\n",
    "#     print(total)\n",
    "print('-'*20)\n",
    "print(total)"
   ]
  },
  {
   "cell_type": "markdown",
   "metadata": {},
   "source": [
    "#### for 구문의 간략 버전 : list 안에서 for 구문 사용\n",
    "```python\n",
    "[i for i in range(3)]\n",
    ">>> [0, 1, 2]\n",
    "```"
   ]
  },
  {
   "cell_type": "code",
   "execution_count": 14,
   "metadata": {},
   "outputs": [
    {
     "name": "stdout",
     "output_type": "stream",
     "text": [
      "[2, 4, 6, 8, 10]\n"
     ]
    }
   ],
   "source": [
    "# list 안에 for 구문 사용하기\n",
    "# [표현식 for 항목 in 반복객체]\n",
    "total2 = [n * 2 for n in num_list]\n",
    "print(total2)"
   ]
  },
  {
   "cell_type": "code",
   "execution_count": 15,
   "metadata": {},
   "outputs": [
    {
     "name": "stdout",
     "output_type": "stream",
     "text": [
      "[4, 8]\n"
     ]
    }
   ],
   "source": [
    "#  짝수이면 2를 곱하시오.\n",
    "total3 = []\n",
    "for n in num_list:\n",
    "    if n % 2 == 0:\n",
    "        total3.append(n*2)\n",
    "print(total3)"
   ]
  },
  {
   "cell_type": "code",
   "execution_count": 16,
   "metadata": {
    "scrolled": true
   },
   "outputs": [
    {
     "data": {
      "text/plain": [
       "[4, 8]"
      ]
     },
     "execution_count": 16,
     "metadata": {},
     "output_type": "execute_result"
    }
   ],
   "source": [
    "# list 안에 for구문 + 조건식\n",
    "total4 = [n * 2 for n in num_list if n % 2 == 0]\n",
    "total4"
   ]
  },
  {
   "cell_type": "code",
   "execution_count": null,
   "metadata": {
    "collapsed": true
   },
   "outputs": [],
   "source": []
  },
  {
   "cell_type": "markdown",
   "metadata": {},
   "source": [
    "* while 구문\n",
    "\n",
    "while의 조건식이 참일 경우 계속 while 안의 블럭을 실행\n",
    "\n",
    "```python\n",
    "    while 조건:\n",
    "        실행 코드1\n",
    "        실행 코드2\n",
    "        ....\n",
    "```"
   ]
  },
  {
   "cell_type": "code",
   "execution_count": 18,
   "metadata": {},
   "outputs": [
    {
     "name": "stdout",
     "output_type": "stream",
     "text": [
      "나무를 1번 찍었습니다.\n",
      "나무를 2번 찍었습니다.\n",
      "나무를 3번 찍었습니다.\n",
      "나무를 4번 찍었습니다.\n",
      "나무를 5번 찍었습니다.\n",
      "나무를 6번 찍었습니다.\n",
      "나무를 7번 찍었습니다.\n",
      "나무를 8번 찍었습니다.\n",
      "나무를 9번 찍었습니다.\n",
      "나무를 10번 찍었습니다.\n",
      "==>> 나무 넘어갑니다~ :D\n"
     ]
    }
   ],
   "source": [
    "# \"열 번 찍어 안넘어 가는 나무 없다\"\n",
    "treehit = 0\n",
    "while treehit < 10:\n",
    "    treehit = treehit + 1\n",
    "    print('나무를 {}번 찍었습니다.'.format(treehit))\n",
    "    if treehit == 10:\n",
    "        print('==>> 나무 넘어갑니다~ :D')"
   ]
  },
  {
   "cell_type": "code",
   "execution_count": 20,
   "metadata": {
    "scrolled": true
   },
   "outputs": [
    {
     "name": "stdout",
     "output_type": "stream",
     "text": [
      "돈을 받았으니 사과를 줍니다.\n",
      "  * 남은 사과의 양은 6개 입니다.\n",
      "돈을 받았으니 사과를 줍니다.\n",
      "  * 남은 사과의 양은 5개 입니다.\n",
      "돈을 받았으니 사과를 줍니다.\n",
      "  * 남은 사과의 양은 4개 입니다.\n",
      "돈을 받았으니 사과를 줍니다.\n",
      "  * 남은 사과의 양은 3개 입니다.\n",
      "돈을 받았으니 사과를 줍니다.\n",
      "  * 남은 사과의 양은 2개 입니다.\n",
      "돈을 받았으니 사과를 줍니다.\n",
      "  * 남은 사과의 양은 1개 입니다.\n",
      "돈을 받았으니 사과를 줍니다.\n",
      "  * 남은 사과의 양은 0개 입니다.\n",
      "+++++++++++++++++++++++++++++++++++\n",
      "사과가 매진되었습니다. 판매 종료~!\n"
     ]
    }
   ],
   "source": [
    "# while문 강제로 빠져나가기 :: break\n",
    "apple = 7\n",
    "money = True\n",
    "\n",
    "while money:\n",
    "    print('돈을 받았으니 사과를 줍니다.')\n",
    "    apple = apple - 1\n",
    "    print('  * 남은 사과의 양은 {}개 입니다.'.format(apple))\n",
    "    \n",
    "    if not apple:\n",
    "        print('+'*35)\n",
    "        print('사과가 매진되었습니다. 판매 종료~!')\n",
    "        money = False"
   ]
  },
  {
   "cell_type": "code",
   "execution_count": 29,
   "metadata": {},
   "outputs": [
    {
     "name": "stdout",
     "output_type": "stream",
     "text": [
      "홀수 :: 1\n",
      "홀수 :: 3\n",
      "홀수 :: 5\n",
      "홀수 :: 7\n",
      "홀수 :: 9\n"
     ]
    }
   ],
   "source": [
    "# 조건 미달시 맨 처음으로 돌아가기\n",
    "# 홀수 출력 코드\n",
    "a = 0\n",
    "while a < 10:\n",
    "    a = a + 1\n",
    "#     print(a) \n",
    "    if a % 2 == 0: # 짝수면 그냥 넘어가시오\n",
    "        continue\n",
    "    print('홀수 ::', a) "
   ]
  },
  {
   "cell_type": "code",
   "execution_count": null,
   "metadata": {
    "collapsed": true
   },
   "outputs": [],
   "source": []
  },
  {
   "cell_type": "markdown",
   "metadata": {},
   "source": [
    "### 9.3 함수정의"
   ]
  },
  {
   "cell_type": "markdown",
   "metadata": {},
   "source": [
    "```python\n",
    "def 함수이름(입력 인수):\n",
    "    실행 코드1\n",
    "    실행 코드2\n",
    "    ...   \n",
    "    입력인수\n",
    "    return 반환값\n",
    "```"
   ]
  },
  {
   "cell_type": "code",
   "execution_count": 14,
   "metadata": {
    "collapsed": true
   },
   "outputs": [],
   "source": [
    "def function(a, b):\n",
    "    return a + b"
   ]
  },
  {
   "cell_type": "code",
   "execution_count": 15,
   "metadata": {},
   "outputs": [
    {
     "data": {
      "text/plain": [
       "4"
      ]
     },
     "execution_count": 15,
     "metadata": {},
     "output_type": "execute_result"
    }
   ],
   "source": [
    "function(1, 3)"
   ]
  },
  {
   "cell_type": "code",
   "execution_count": 19,
   "metadata": {},
   "outputs": [
    {
     "data": {
      "text/plain": [
       "4"
      ]
     },
     "execution_count": 19,
     "metadata": {},
     "output_type": "execute_result"
    }
   ],
   "source": [
    "def function2(a, b):\n",
    "    value = a + b # 함수 내에서만 지정 됨.\n",
    "    return value\n",
    "\n",
    "function2(1, 3)"
   ]
  },
  {
   "cell_type": "code",
   "execution_count": 20,
   "metadata": {},
   "outputs": [
    {
     "data": {
      "text/plain": [
       "'Ho~'"
      ]
     },
     "execution_count": 20,
     "metadata": {},
     "output_type": "execute_result"
    }
   ],
   "source": [
    "# 입력값이 없는 함수\n",
    "def say_ho():\n",
    "    return 'Ho~'\n",
    "\n",
    "say_ho()"
   ]
  },
  {
   "cell_type": "code",
   "execution_count": 22,
   "metadata": {},
   "outputs": [
    {
     "name": "stdout",
     "output_type": "stream",
     "text": [
      "1 - 3 = -2\n"
     ]
    }
   ],
   "source": [
    "# 반환값이 없는 함수(실행형)\n",
    "def function3(a, b):\n",
    "    print(a, '-', b, '=', a-b)\n",
    "\n",
    "function3(1, 3)"
   ]
  },
  {
   "cell_type": "code",
   "execution_count": 21,
   "metadata": {},
   "outputs": [],
   "source": [
    "# 2개이상의 반환값\n",
    "def function4(a, b):\n",
    "    return a+b, a*b\n",
    "\n",
    "plus, multiple = function4(1, 3)"
   ]
  },
  {
   "cell_type": "code",
   "execution_count": 22,
   "metadata": {},
   "outputs": [
    {
     "data": {
      "text/plain": [
       "3"
      ]
     },
     "execution_count": 22,
     "metadata": {},
     "output_type": "execute_result"
    }
   ],
   "source": [
    "plus\n",
    "multiple"
   ]
  },
  {
   "cell_type": "code",
   "execution_count": 28,
   "metadata": {
    "collapsed": true
   },
   "outputs": [],
   "source": [
    "def my_function(x, y, z):\n",
    "    if z > 1:\n",
    "        return z * (x + y)\n",
    "    else:\n",
    "        return z / (x + y)"
   ]
  },
  {
   "cell_type": "code",
   "execution_count": 33,
   "metadata": {},
   "outputs": [
    {
     "data": {
      "text/plain": [
       "8"
      ]
     },
     "execution_count": 33,
     "metadata": {},
     "output_type": "execute_result"
    }
   ],
   "source": [
    "my_function(y=1, z=2, x=3) # 3*(1+2)"
   ]
  },
  {
   "cell_type": "code",
   "execution_count": 30,
   "metadata": {},
   "outputs": [
    {
     "data": {
      "text/plain": [
       "0.2"
      ]
     },
     "execution_count": 30,
     "metadata": {},
     "output_type": "execute_result"
    }
   ],
   "source": [
    "my_function(2, 2, 0.8) # 0.8/(2+2)"
   ]
  },
  {
   "cell_type": "code",
   "execution_count": null,
   "metadata": {
    "collapsed": true
   },
   "outputs": [],
   "source": []
  },
  {
   "cell_type": "markdown",
   "metadata": {},
   "source": [
    "# Plot\n",
    "\n",
    "* [__matplotlib.pyplot__](https://matplotlib.org/api/pyplot_api.html#module-matplotlib.pyplot)을 사용. (__plt__로 축약)\n",
    "\n",
    "    1. plot, scatter, hist 등...\n",
    "    ```python\n",
    "    plt.plot(x), plt.plot(x, y) #플랏\n",
    "    plt.scatter(x) #산점도\n",
    "    plt.hist(x) #히스토그램\n",
    "    ```\n",
    "    1. title, xlabel, ylabel\n",
    "    ```python\n",
    "    plt.title('title of plot')\n",
    "    plt.xlabel('label of xlabel')\n",
    "    plt.ylabel('label of ylabel')\n",
    "    ```\n",
    "    1. xlim, ylim\n",
    "    ```python\n",
    "    plt.xlim(0, 10) #x축 범위\n",
    "    plt.ylim(-5, 5) #y축 범위\n",
    "    ```\n",
    "    1. grid, legend 등...\n",
    "    ```python\n",
    "    plt.grid() #grid 설정\n",
    "    plt.legend() #범례 설정(다양한 옵션이 있음)"
   ]
  },
  {
   "cell_type": "code",
   "execution_count": 39,
   "metadata": {},
   "outputs": [],
   "source": [
    "import numpy as np\n",
    "import matplotlib.pyplot as plt\n",
    "\n",
    "x = np.arange(-5, 5, 0.1)"
   ]
  },
  {
   "attachments": {
    "arange.JPG": {
     "image/jpeg": "[encoded data removed]"
    }
   },
   "cell_type": "markdown",
   "metadata": {},
   "source": [
    "[np.arange document](https://docs.scipy.org/doc/numpy-1.13.0/reference/generated/numpy.arange.html)\n",
    "![arange.JPG](attachment:arange.JPG)"
   ]
  },
  {
   "cell_type": "code",
   "execution_count": 45,
   "metadata": {},
   "outputs": [
    {
     "data": {
      "image/png": "[encoded data removed]",
      "text/plain": [
       "<matplotlib.figure.Figure at 0x816ed68>"
      ]
     },
     "metadata": {},
     "output_type": "display_data"
    }
   ],
   "source": [
    "plt.plot(x, alpha=0.6, c='red')\n",
    "plt.title('x')\n",
    "plt.grid()\n",
    "plt.show()"
   ]
  },
  {
   "cell_type": "code",
   "execution_count": 55,
   "metadata": {},
   "outputs": [],
   "source": [
    "def sigmoid(x):\n",
    "    return 1 / (1 + np.exp(-x))\n",
    "\n",
    "def relu(x):\n",
    "    relu = []\n",
    "    for i in x:\n",
    "        relu.append(max(0, i))\n",
    "    return relu"
   ]
  },
  {
   "cell_type": "code",
   "execution_count": 56,
   "metadata": {},
   "outputs": [
    {
     "data": {
      "image/png": "[encoded data removed]",
      "text/plain": [
       "<matplotlib.figure.Figure at 0x8a62fd0>"
      ]
     },
     "metadata": {},
     "output_type": "display_data"
    }
   ],
   "source": [
    "plt.plot(sigmoid(x), alpha=0.6)\n",
    "plt.title('Sigmoid')\n",
    "plt.grid()\n",
    "plt.show()"
   ]
  },
  {
   "cell_type": "code",
   "execution_count": 57,
   "metadata": {
    "scrolled": true
   },
   "outputs": [
    {
     "data": {
      "image/png": "[encoded data removed]",
      "text/plain": [
       "<matplotlib.figure.Figure at 0x8ab4d68>"
      ]
     },
     "metadata": {},
     "output_type": "display_data"
    }
   ],
   "source": [
    "plt.plot(relu(x), alpha=0.6)\n",
    "plt.title('ReLU')\n",
    "plt.grid()\n",
    "plt.show()"
   ]
  },
  {
   "cell_type": "code",
   "execution_count": 63,
   "metadata": {},
   "outputs": [
    {
     "data": {
      "image/png": "[encoded data removed]",
      "text/plain": [
       "<matplotlib.figure.Figure at 0xa45b668>"
      ]
     },
     "metadata": {},
     "output_type": "display_data"
    }
   ],
   "source": [
    "plt.plot(x, linewidth=3, linestyle=':', alpha=0.6, label='x')\n",
    "plt.plot(sigmoid(x), linewidth=5, alpha=0.6, label='sigmoid(x)')\n",
    "plt.plot(relu(x), linewidth=3, alpha=0.6, label='ReLU(x)')\n",
    "plt.grid() # 그리드설정\n",
    "plt.legend() #범례\n",
    "plt.title('x & sigmoid(x) & ReLU(x)') #title 설정\n",
    "plt.show()"
   ]
  },
  {
   "cell_type": "code",
   "execution_count": 52,
   "metadata": {},
   "outputs": [
    {
     "data": {
      "image/png": "[encoded data removed]",
      "text/plain": [
       "<matplotlib.figure.Figure at 0x8a0a1d0>"
      ]
     },
     "metadata": {},
     "output_type": "display_data"
    }
   ],
   "source": [
    "x = np.arange(-5, 5, 0.3)\n",
    "plt.plot(x, 'r--', sigmoid(x), 'bs', relu(x), 'g^', alpha=0.6)\n",
    "plt.grid() # 그리드설정\n",
    "plt.title('x & sigmoid(x) & ReLU(x)') #title 설정\n",
    "plt.show()"
   ]
  }
 ],
 "metadata": {
  "kernelspec": {
   "display_name": "Python 3",
   "language": "python",
   "name": "python3"
  },
  "language_info": {
   "codemirror_mode": {
    "name": "ipython",
    "version": 3
   },
   "file_extension": ".py",
   "mimetype": "text/x-python",
   "name": "python",
   "nbconvert_exporter": "python",
   "pygments_lexer": "ipython3",
   "version": "3.6.4"
  }
 },
 "nbformat": 4,
 "nbformat_minor": 2
}
