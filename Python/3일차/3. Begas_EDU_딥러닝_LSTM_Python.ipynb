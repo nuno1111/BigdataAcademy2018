{
 "cells": [
  {
   "cell_type": "code",
   "execution_count": 0,
   "metadata": {
    "colab": {
     "autoexec": {
      "startup": false,
      "wait_interval": 0
     }
    },
    "colab_type": "code",
    "id": "rJ5BACPnwaaP"
   },
   "outputs": [],
   "source": [
    "import numpy as np\n",
    "import tensorflow as tf\n",
    "import pandas as pd\n",
    "import matplotlib.pyplot as plt\n",
    "import datetime"
   ]
  },
  {
   "cell_type": "markdown",
   "metadata": {
    "colab_type": "text",
    "id": "6f42Fcs2waaT"
   },
   "source": [
    "# 1. Long Short Term Memory\n",
    "<br />"
   ]
  },
  {
   "cell_type": "markdown",
   "metadata": {
    "colab_type": "text",
    "id": "TDH0LY5wwaaT"
   },
   "source": [
    "### Random Seed 설정"
   ]
  },
  {
   "cell_type": "code",
   "execution_count": 0,
   "metadata": {
    "colab": {
     "autoexec": {
      "startup": false,
      "wait_interval": 0
     }
    },
    "colab_type": "code",
    "id": "Ulm1gVidwaaU"
   },
   "outputs": [],
   "source": [
    "tf.set_random_seed(5)"
   ]
  },
  {
   "cell_type": "markdown",
   "metadata": {
    "colab_type": "text",
    "id": "U59Pfd83waaW"
   },
   "source": [
    "- Parameter Tuning을 위해 Random Seed 설정"
   ]
  },
  {
   "cell_type": "markdown",
   "metadata": {
    "colab_type": "text",
    "id": "-p_BWPoRwaaX"
   },
   "source": [
    "### Scale 함수 정의"
   ]
  },
  {
   "cell_type": "code",
   "execution_count": 0,
   "metadata": {
    "colab": {
     "autoexec": {
      "startup": false,
      "wait_interval": 0
     }
    },
    "colab_type": "code",
    "id": "XDRhqgjGwaaY"
   },
   "outputs": [],
   "source": [
    "# max-min scaling 함수\n",
    "# 1e-8은 0으로 나눌 때 오류가 없게 하기 위함\n",
    "def max_min_scaling(x):\n",
    "    input_np = np.asarray(x)\n",
    "    return (input_np - input_np.min())/(input_np.max() - input_np.min() + 1e-8)\n",
    "\n",
    "# Reverse scaling 함수\n",
    "def rev_max_min_scaling(org, x):\n",
    "    org_input_np = np.asarray(org)\n",
    "    input_np = np.asarray(x)\n",
    "    return (input_np * (org_input_np.max() - org_input_np.min() + 1e-8)) + org_input_np.min()"
   ]
  },
  {
   "cell_type": "markdown",
   "metadata": {
    "colab_type": "text",
    "id": "mqPl2sHvwaaa"
   },
   "source": [
    "### 데이터 로딩"
   ]
  },
  {
   "cell_type": "code",
   "execution_count": 0,
   "metadata": {
    "colab": {
     "autoexec": {
      "startup": false,
      "wait_interval": 0
     },
     "output_extras": [
      {}
     ]
    },
    "colab_type": "code",
    "id": "eBKHzbspwaaa",
    "outputId": "2c9e769c-49be-40e3-90b5-4afb6854e2f0"
   },
   "outputs": [
    {
     "name": "stdout",
     "output_type": "stream",
     "text": [
      "        Open       High        Low      Close  Adj Close     Volumn\n",
      "0  92.699997  99.699997  89.949997  93.889999  93.889999  271879400\n",
      "1  92.699997  92.949997  89.500000  89.889999  89.889999   66657800\n",
      "2  88.940002  90.480003  86.620003  87.169998  87.169998   39009800\n",
      "3  88.470001  90.570000  87.220001  90.570000  90.570000   32088000\n",
      "4  91.089996  91.500000  88.500000  88.919998  88.919998   28598000\n",
      "\n",
      "\n",
      " [[9.2699997e+01 9.9699997e+01 8.9949997e+01 9.3889999e+01 9.3889999e+01\n",
      "  2.7187940e+08]\n",
      " [9.2699997e+01 9.2949997e+01 8.9500000e+01 8.9889999e+01 8.9889999e+01\n",
      "  6.6657800e+07]\n",
      " [8.8940002e+01 9.0480003e+01 8.6620003e+01 8.7169998e+01 8.7169998e+01\n",
      "  3.9009800e+07]\n",
      " [8.8470001e+01 9.0570000e+01 8.7220001e+01 9.0570000e+01 9.0570000e+01\n",
      "  3.2088000e+07]\n",
      " [9.1089996e+01 9.1500000e+01 8.8500000e+01 8.8919998e+01 8.8919998e+01\n",
      "  2.8598000e+07]]\n"
     ]
    }
   ],
   "source": [
    "raw_data = pd.read_csv('baba.csv'\n",
    "                            , names = ['Date', 'Open', 'High', 'Low', 'Close', 'Adj Close', 'Volumn']\n",
    "                            , encoding = 'euc-kr')\n",
    "\n",
    "\n",
    "del raw_data['Date'] # Date 컬럼 삭제\n",
    "stock_data = raw_data.values.astype(np.float) # 모든 컬럼 타입을 float으로 변환\n",
    "\n",
    "print(raw_data.head(5))\n",
    "print('\\n\\n',stock_data[:5,:])"
   ]
  },
  {
   "cell_type": "markdown",
   "metadata": {
    "colab_type": "text",
    "id": "8-kFzAlUwaaf"
   },
   "source": [
    "- pandas로 data를 읽은 후 Array로 변환"
   ]
  },
  {
   "cell_type": "markdown",
   "metadata": {
    "colab_type": "text",
    "id": "sy9hY1URwaaf"
   },
   "source": [
    "### Hyper Parameter 정의"
   ]
  },
  {
   "cell_type": "code",
   "execution_count": 0,
   "metadata": {
    "colab": {
     "autoexec": {
      "startup": false,
      "wait_interval": 0
     }
    },
    "colab_type": "code",
    "id": "NRYPwXTDwaag"
   },
   "outputs": [],
   "source": [
    "input_data_column_cnt = 6  # 입력 데이터 컬럼 개수 (Number of Variable)\n",
    "output_data_column_cnt = 1 # 출력 데이터 컬럼 개수 (Number of Variable)\n",
    "\n",
    "seq_length = 28            # 1개 Sequence의 길이(시계열 데이터 입력 갯수)\n",
    "rnn_cell_hidden_dim = 28   # Hidden State 노드 개수\n",
    "num_stacked_layers = 2     # LSTM Layerr 개수\n",
    "keep_prob = 1.0            # Dropout할 때 Keep 할 비율\n",
    "\n",
    "epoch_num = 1000           # 반복 횟수\n",
    "learning_rate = 0.01       # learning rate"
   ]
  },
  {
   "cell_type": "markdown",
   "metadata": {
    "colab_type": "text",
    "id": "Wux_qreUwaai"
   },
   "source": [
    "- LSTM 학습을 위한 parameter 설정"
   ]
  },
  {
   "cell_type": "markdown",
   "metadata": {
    "colab_type": "text",
    "id": "qmYAkL4Twaaj"
   },
   "source": [
    "### 데이터 전처리"
   ]
  },
  {
   "cell_type": "code",
   "execution_count": 0,
   "metadata": {
    "colab": {
     "autoexec": {
      "startup": false,
      "wait_interval": 0
     },
     "output_extras": [
      {}
     ]
    },
    "colab_type": "code",
    "id": "J4QUhGkJwaaj",
    "outputId": "0b884f12-3ba2-430a-9035-ba672503700e"
   },
   "outputs": [
    {
     "name": "stdout",
     "output_type": "stream",
     "text": [
      "price.shape: (846, 5)\n",
      "\n",
      "정규화 전 price[0]: [92.699997 99.699997 89.949997 93.889999 93.889999]\n",
      "\n",
      "정규화 후 norm_price[0]: [0.23907331 0.28621453 0.22055354 0.24708733 0.24708733]\n",
      "\n",
      " ==================================================================================================================================\n",
      "volum.shape: (846, 1)\n",
      "\n",
      "정규화 전 volum[0]: [2.718794e+08]\n",
      "\n",
      "정규화 후 norm_volum[0]: [1.]\n",
      "\n",
      " ==================================================================================================================================\n",
      "x.shape: (846, 6)\n",
      "\n",
      "x[0]: [0.23907331 0.28621453 0.22055354 0.24708733 0.24708733 1.        ]\n",
      "\n",
      "x[-1]: [0.99420836 1.         0.97393767 0.9819516  0.9819516  0.06763526]\n",
      "\n",
      " ==================================================================================================================================\n",
      "y.shape: (846, 1)\n",
      "\n",
      "y[0]: [0.24708733]\n",
      "\n",
      "y[-1]: [0.9819516]\n",
      "\n",
      " ==================================================================================================================================\n"
     ]
    }
   ],
   "source": [
    "#Scale이 다른 Volumn을 제외한 컬럼들(Stock Price 관련) 선택 후 정규화\n",
    "price = stock_data[:, :-1] #'Open', 'High', 'Low', 'Close', 'Adj Close', 'Volumn' 중 Volumn 제외 후 데이터 선택\n",
    "norm_price = max_min_scaling(price)\n",
    "print(\"price.shape:\", price.shape)\n",
    "print(\"\\n정규화 전 price[0]:\", price[0])\n",
    "print(\"\\n정규화 후 norm_price[0]:\", norm_price[0])\n",
    "print(\"\\n\",\"=\"*130)\n",
    "\n",
    "#Volumn 컬럼 정규화\n",
    "volum = stock_data[:, -1:] #'Open', 'High', 'Low', 'Close', 'Adj Close', 'Volumn' 중 Volumn 선택\n",
    "norm_volum = max_min_scaling(volum)\n",
    "print(\"volum.shape:\", volum.shape)\n",
    "print(\"\\n정규화 전 volum[0]:\", volum[0])\n",
    "print(\"\\n정규화 후 norm_volum[0]:\", norm_volum[0])\n",
    "print(\"\\n\",\"=\"*130)\n",
    "\n",
    "# Input Data 결합\n",
    "x = np.concatenate((norm_price, norm_volum), axis = 1) \n",
    "print(\"x.shape:\", x.shape) #'Open', 'High', 'Low', 'Close', 'Adj Close', 'Volumn' 컬럼으로 구성\n",
    "print(\"\\nx[0]:\", x[0])     \n",
    "print(\"\\nx[-1]:\", x[-1])\n",
    "print(\"\\n\",\"=\"*130)\n",
    "\n",
    "# Target 변수로 Adj Close(수정된 그날의 주식 종가 선택)\n",
    "y = x[:,[-2]]\n",
    "print(\"y.shape:\", y.shape) \n",
    "print(\"\\ny[0]:\", y[0])     \n",
    "print(\"\\ny[-1]:\", y[-1])\n",
    "print(\"\\n\",\"=\"*130)"
   ]
  },
  {
   "cell_type": "markdown",
   "metadata": {
    "colab_type": "text",
    "id": "YGf3C347waam"
   },
   "source": [
    "- 학습의 정확도를 높히기 위해 모든 컬럼을 정규화 시킴"
   ]
  },
  {
   "cell_type": "markdown",
   "metadata": {
    "colab_type": "text",
    "id": "7_a-TmLPwaan"
   },
   "source": [
    "### LSTM Input으로 입력하기 위한 Shape로 변환"
   ]
  },
  {
   "cell_type": "code",
   "execution_count": 0,
   "metadata": {
    "colab": {
     "autoexec": {
      "startup": false,
      "wait_interval": 0
     },
     "output_extras": [
      {}
     ]
    },
    "colab_type": "code",
    "id": "YzXLfDcdwaao",
    "outputId": "fd759e34-8551-4111-ec30-b295e6058121"
   },
   "outputs": [
    {
     "name": "stdout",
     "output_type": "stream",
     "text": [
      "[[0.23907331 0.28621453 0.22055354 0.24708733 0.24708733 1.        ]\n",
      " [0.23907331 0.24075692 0.21752306 0.22014949 0.22014949 0.23454509]\n",
      " [0.21375177 0.22412285 0.19812783 0.20183175 0.20183175 0.13142097]\n",
      " [0.21058657 0.22472893 0.20216849 0.22472893 0.22472893 0.10560338]\n",
      " [0.22823082 0.23099198 0.2107886  0.21361706 0.21361706 0.09258605]\n",
      " [0.219072   0.22398813 0.21186614 0.22398813 0.22398813 0.05432479]\n",
      " [0.21833121 0.21886993 0.20755604 0.21247221 0.21247221 0.08029232]\n",
      " [0.21415583 0.22681659 0.21051921 0.21314564 0.21314564 0.07700031]\n",
      " [0.21213547 0.21375177 0.19422183 0.19462588 0.19462588 0.0755464 ]\n",
      " [0.19577073 0.20876824 0.19133274 0.20109096 0.20109096 0.06599824]\n",
      " [0.2080948  0.22048623 0.20506432 0.2080948  0.2080948  0.05486824]\n",
      " [0.21516601 0.21853324 0.20782542 0.20950904 0.20950904 0.02048868]\n",
      " [0.20708462 0.21886993 0.20109096 0.20519898 0.20519898 0.03363022]\n",
      " [0.20742137 0.2107886  0.20109096 0.20944173 0.20944173 0.02415965]\n",
      " [0.21085596 0.22324734 0.20742137 0.2127416  0.2127416  0.06613737]\n",
      " [0.20910498 0.21240485 0.18883424 0.19314429 0.19314429 0.04347602]\n",
      " [0.19967672 0.19994611 0.18667922 0.18802614 0.18802614 0.04128881]\n",
      " [0.19267289 0.19314429 0.17523065 0.18688124 0.18688124 0.0439527 ]\n",
      " [0.18075291 0.19725232 0.17246951 0.19125865 0.19125865 0.04867139]\n",
      " [0.18708332 0.21533438 0.18058454 0.21314564 0.21314564 0.04273228]\n",
      " [0.22358408 0.22695132 0.20519898 0.20681529 0.20681529 0.05067211]\n",
      " [0.20742137 0.21752306 0.20647855 0.20917234 0.20917234 0.02281241]\n",
      " [0.21482926 0.23772644 0.2107886  0.22695132 0.22695132 0.07261545]\n",
      " [0.23604282 0.2444609  0.22769211 0.23186744 0.23186744 0.06187597]\n",
      " [0.2405549  0.25254223 0.23988147 0.25085862 0.25085862 0.06290728]\n",
      " [0.255034   0.27476597 0.253081   0.25968079 0.25968079 0.10576974]\n",
      " [0.26803151 0.28049025 0.26331741 0.27335174 0.27335174 0.09148349]\n",
      " [0.28715735 0.29274696 0.278874   0.28607986 0.28607986 0.10575109]] -> [0.27685364]\n"
     ]
    }
   ],
   "source": [
    "dataX = []\n",
    "dataY = []\n",
    "\n",
    "\n",
    "# X 데이터는 seq_length 만큼 데이터를 자른 후 하나의 Input으로 변환하고, Target 데이터는 seq_length+1의 값으로 생성 함\n",
    "for i in range(0, len(y) - seq_length):\n",
    "    x_ = x[i : i + seq_length]\n",
    "    y_ = y[i + seq_length]\n",
    "    if i is 0:\n",
    "        print(x_, \"->\", y_)\n",
    "    dataX.append(x_)\n",
    "    dataY.append(y_)"
   ]
  },
  {
   "cell_type": "markdown",
   "metadata": {
    "colab_type": "text",
    "id": "DZ5uqcjhwaar"
   },
   "source": [
    "- LSTM을 학습시키기 위해 Input data의 shape변경 \n",
    "- x: [seq1, seq2, seq3, ....,seq_length]\n",
    "- y: [seq_length+1]"
   ]
  },
  {
   "cell_type": "markdown",
   "metadata": {
    "colab_type": "text",
    "id": "r_H1M8sNwaas"
   },
   "source": [
    "### 데이터 분할"
   ]
  },
  {
   "cell_type": "code",
   "execution_count": 0,
   "metadata": {
    "colab": {
     "autoexec": {
      "startup": false,
      "wait_interval": 0
     }
    },
    "colab_type": "code",
    "id": "NNklMKrXwaat"
   },
   "outputs": [],
   "source": [
    "# 분할 비율 index 생성 (Train, test = 7:3)\n",
    "train_size = int(len(dataY)*0.7)\n",
    "test_size = len(dataY) - train_size\n",
    "\n",
    "# Train data 생성\n",
    "trainX = np.array(dataX[0:train_size])\n",
    "trainY = np.array(dataY[0:train_size])\n",
    "\n",
    "# Test data 생성\n",
    "testX = np.array(dataX[train_size:len(dataX)])\n",
    "testY = np.array(dataY[train_size:len(dataX)])"
   ]
  },
  {
   "cell_type": "markdown",
   "metadata": {
    "colab_type": "text",
    "id": "JcpQpp6xwaaw"
   },
   "source": [
    "- 학습 전 Train/Test data로 데이터 분할"
   ]
  },
  {
   "cell_type": "markdown",
   "metadata": {
    "colab_type": "text",
    "id": "q_C9FNXiwaax"
   },
   "source": [
    "### Tensor Graph 생성"
   ]
  },
  {
   "cell_type": "code",
   "execution_count": 0,
   "metadata": {
    "colab": {
     "autoexec": {
      "startup": false,
      "wait_interval": 0
     },
     "output_extras": [
      {}
     ]
    },
    "colab_type": "code",
    "id": "wQiGrOQtwaay",
    "outputId": "655e8869-7320-4f65-b9ce-8ef91ed4b101"
   },
   "outputs": [
    {
     "name": "stdout",
     "output_type": "stream",
     "text": [
      "X :  Tensor(\"Placeholder:0\", shape=(?, 28, 6), dtype=float32)\n",
      "Y :  Tensor(\"Placeholder_1:0\", shape=(?, 1), dtype=float32)\n",
      "target :  Tensor(\"Placeholder_2:0\", shape=(?, 1), dtype=float32)\n",
      "prediction :  Tensor(\"Placeholder_3:0\", shape=(?, 1), dtype=float32)\n"
     ]
    }
   ],
   "source": [
    "tf.reset_default_graph() #RNN Graph 초기화\n",
    "\n",
    "X = tf.placeholder(tf.float32, [None, seq_length, input_data_column_cnt])\n",
    "print(\"X : \",X)\n",
    "\n",
    "Y = tf.placeholder(tf.float32, [None, 1])\n",
    "print(\"Y : \",Y)\n",
    "\n",
    "##Target, Prediction Graph for test\n",
    "target = tf.placeholder(tf.float32, [None, 1])\n",
    "print(\"target : \",target)\n",
    "\n",
    "prediction = tf.placeholder(tf.float32, [None, 1])\n",
    "print(\"prediction : \",prediction)"
   ]
  },
  {
   "cell_type": "markdown",
   "metadata": {
    "colab_type": "text",
    "id": "dCtg9LLMwaa1"
   },
   "source": [
    "- Tensor Graph 생성 전 모든 graph를 초기화\n",
    "- x, y, target, prediction을 저장할 placeholder 생성"
   ]
  },
  {
   "cell_type": "code",
   "execution_count": 0,
   "metadata": {
    "colab": {
     "autoexec": {
      "startup": false,
      "wait_interval": 0
     },
     "output_extras": [
      {}
     ]
    },
    "colab_type": "code",
    "id": "3ZS0IsQ3waa3",
    "outputId": "3bf2fef0-4078-41c3-90bc-967d878e4439"
   },
   "outputs": [
    {
     "name": "stdout",
     "output_type": "stream",
     "text": [
      "hypothesis:  Tensor(\"rnn/transpose:0\", shape=(?, 28, 28), dtype=float32)\n"
     ]
    }
   ],
   "source": [
    "#lstm Cell 생성 함수 정의\n",
    "def lstm_cell():\n",
    "    # num_units: 각 Cell 출력 크기\n",
    "    cell = tf.contrib.rnn.BasicLSTMCell(num_units=rnn_cell_hidden_dim, activation=tf.nn.softsign)\n",
    "    if keep_prob < 1.0:\n",
    "        cell = tf.contrib.rnn.DropoutWrapper(cell, output_keep_prob=keep_prob)\n",
    "    return cell\n",
    " \n",
    "# num_stacked_layers개의 층으로 쌓인 Stacked LSTM 생성\n",
    "multi_cells = tf.contrib.rnn.MultiRNNCell([lstm_cell() for _ in range(num_stacked_layers)]\n",
    "                                          , state_is_tuple=True)\n",
    " \n",
    "# LSTM셀 연결\n",
    "hypothesis, _states = tf.nn.dynamic_rnn(multi_cells, X, dtype=tf.float32)\n",
    "\n",
    "print(\"hypothesis: \", hypothesis)\n",
    " \n",
    "# LSTM의 마지막 hidden 출력만을 사용 --> [:, -1]\n",
    "# 과거 여러 스텝으로 다음날의 주가 1개를 예측  --> MANY-TO-ONE 형태\n",
    "hypothesis = tf.contrib.layers.fully_connected(hypothesis[:, -1]\n",
    "                                               , output_data_column_cnt\n",
    "                                               , activation_fn=tf.identity)\n",
    "\n",
    "# Cost Function은  MSE 사용\n",
    "cost = tf.reduce_sum(tf.square(hypothesis - Y))\n",
    "\n",
    "# 최적화함수로 AdamOptimizer를 사용\n",
    "optimizer = tf.train.AdamOptimizer(learning_rate).minimize(cost)"
   ]
  },
  {
   "cell_type": "markdown",
   "metadata": {
    "colab_type": "text",
    "id": "0vuJY0nDwaa7"
   },
   "source": [
    "- LSTM layer를 여러층을 쌓기 위해 lstm cell 함수를 작성\n",
    "- 사용자가 지정한 층의 개수 만큼 Layer를 쌓아서 Stacked LSTM 생성 하고 dynamic_rnn으로 모든 셀을 연결"
   ]
  },
  {
   "cell_type": "code",
   "execution_count": 0,
   "metadata": {
    "colab": {
     "autoexec": {
      "startup": false,
      "wait_interval": 0
     }
    },
    "colab_type": "code",
    "id": "6Kk_OTVlwaa8"
   },
   "outputs": [],
   "source": [
    "# RMSE(Root Mean Square Error)\n",
    "rmse = tf.sqrt(tf.reduce_mean(tf.squared_difference(target, prediction)))\n",
    "train_error_summary = [] # train error 기록을 위한 list 생성\n",
    "test_error_summary = []  # test error 기록을 위한 list 생성\n",
    "test_predict = ''        # test data로 예측한 결과"
   ]
  },
  {
   "cell_type": "markdown",
   "metadata": {
    "colab_type": "text",
    "id": "iA--Lp7xwaa-"
   },
   "source": [
    "### Tensor Graph 실행 (Training)"
   ]
  },
  {
   "cell_type": "code",
   "execution_count": 0,
   "metadata": {
    "colab": {
     "autoexec": {
      "startup": false,
      "wait_interval": 0
     },
     "output_extras": [
      {}
     ]
    },
    "colab_type": "code",
    "id": "i2rZjSmzwaa_",
    "outputId": "bae77c03-47e4-40b6-aa60-a3f49a8b76fd"
   },
   "outputs": [
    {
     "name": "stdout",
     "output_type": "stream",
     "text": [
      "학습을 시작하겠습니다\n",
      "epoch: 100, train_error(A): 0.018037816509604454, test_error(B): 0.09088239073753357, B-A: 0.07284457236528397\n",
      "epoch: 200, train_error(A): 0.01580023393034935, test_error(B): 0.06009573116898537, B-A: 0.04429549723863602\n",
      "epoch: 300, train_error(A): 0.013452465645968914, test_error(B): 0.05323633924126625, B-A: 0.03978387266397476\n",
      "epoch: 400, train_error(A): 0.012819578871130943, test_error(B): 0.06322828680276871, B-A: 0.050408706068992615\n",
      "epoch: 500, train_error(A): 0.011713838204741478, test_error(B): 0.05894613638520241, B-A: 0.04723230004310608\n",
      "epoch: 600, train_error(A): 0.01147305779159069, test_error(B): 0.061685577034950256, B-A: 0.050212517380714417\n",
      "epoch: 700, train_error(A): 0.011339394375681877, test_error(B): 0.06812093406915665, B-A: 0.05678153783082962\n",
      "epoch: 800, train_error(A): 0.011234979145228863, test_error(B): 0.0775105431675911, B-A: 0.06627556681632996\n",
      "epoch: 900, train_error(A): 0.011144031770527363, test_error(B): 0.09046881645917892, B-A: 0.07932478189468384\n",
      "epoch: 1000, train_error(A): 0.011099991388618946, test_error(B): 0.1037389487028122, B-A: 0.09263895452022552\n",
      "학습이 완료되었습니다\n"
     ]
    }
   ],
   "source": [
    "#Session 정의 후 글로벌 초기화\n",
    "sess = tf.Session()\n",
    "sess.run(tf.global_variables_initializer())\n",
    " \n",
    "#시작 시간\n",
    "start_time = datetime.datetime.now() \n",
    "print('학습을 시작하겠습니다')\n",
    "\n",
    "\n",
    "for epoch in range(epoch_num):\n",
    "    _, _cost = sess.run([optimizer, cost], feed_dict={X: trainX, Y: trainY}) #모델 학습\n",
    "    if ((epoch+1) % 100 == 0) or (epoch == epoch_num-1): \n",
    "        # train data rmse\n",
    "        train_predict = sess.run(hypothesis, feed_dict={X: trainX}) #train으로 predict\n",
    "        train_error = sess.run(rmse, feed_dict={target: trainY, prediction: train_predict})\n",
    "        train_error_summary.append(train_error)\n",
    " \n",
    "        # test data rmse\n",
    "        test_predict = sess.run(hypothesis, feed_dict={X: testX}) #test로 predict\n",
    "        test_error = sess.run(rmse, feed_dict={target: testY, prediction: test_predict})\n",
    "        test_error_summary.append(test_error)\n",
    "        \n",
    "        print(\"epoch: {}, train_error(A): {}, test_error(B): {}, B-A: {}\".format(epoch+1, train_error, test_error, test_error-train_error))\n",
    "        \n",
    "print('학습이 완료되었습니다')\n",
    "end_time = datetime.datetime.now()   # 종료시간\n",
    "elapsed_time = end_time - start_time # 경과시간"
   ]
  },
  {
   "cell_type": "markdown",
   "metadata": {
    "colab_type": "text",
    "id": "HpvtU2yZwabE"
   },
   "source": [
    "- train과 test의 loss는 서로 trade off 관계로 판단됨.\n",
    "- 적적한 Epoch 설정 필요"
   ]
  },
  {
   "cell_type": "code",
   "execution_count": 0,
   "metadata": {
    "colab": {
     "autoexec": {
      "startup": false,
      "wait_interval": 0
     },
     "output_extras": [
      {}
     ]
    },
    "colab_type": "code",
    "id": "Gd2Gli7RwabF",
    "outputId": "a5b344ea-a3d9-444c-af90-195d3ed586bd"
   },
   "outputs": [
    {
     "name": "stdout",
     "output_type": "stream",
     "text": [
      "\n",
      " ==================================================================================================================================\n",
      "\n",
      "총 학습 시간: 0:08:24.453439\n",
      "\n",
      "1번 학습 시간: 0:00:00.504453\n",
      "\n",
      "Input 컬럼 개수: 6\n",
      "Output 컬럼 개수: 1\n",
      "train_error: 0.011099991\n",
      "test_error: 0.10373895\n",
      "min_test_error: 0.05323634\n"
     ]
    }
   ],
   "source": [
    "##########################################################\n",
    "# 학습 결과 Parameter 출력\n",
    "##########################################################\n",
    "print(\"\\n\",\"=\"*130)\n",
    "print('\\n총 학습 시간:',elapsed_time)\n",
    "print('\\n1번 학습 시간:',elapsed_time/epoch_num)\n",
    " \n",
    "print('\\nInput 컬럼 개수:', input_data_column_cnt, end='')\n",
    "print('\\nOutput 컬럼 개수:', output_data_column_cnt, end='')\n",
    " \n",
    "print('\\ntrain_error:', train_error_summary[-1], end='')\n",
    "print('\\ntest_error:', test_error_summary[-1], end='')\n",
    "print('\\nmin_test_error:', np.min(test_error_summary))"
   ]
  },
  {
   "cell_type": "code",
   "execution_count": 0,
   "metadata": {
    "colab": {
     "autoexec": {
      "startup": false,
      "wait_interval": 0
     },
     "output_extras": [
      {},
      {},
      {}
     ]
    },
    "colab_type": "code",
    "id": "pC-L1nfzwabI",
    "outputId": "8be1ef73-710a-42cf-8bee-dd853a536bdb"
   },
   "outputs": [
    {
     "data": {
      "image/png": "[encoded data removed]",
      "text/plain": [
       "<matplotlib.figure.Figure at 0x7f3f7b3a0400>"
      ]
     },
     "metadata": {
      "tags": []
     },
     "output_type": "display_data"
    },
    {
     "data": {
      "image/png": "[encoded data removed]",
      "text/plain": [
       "<matplotlib.figure.Figure at 0x7f3f7933c710>"
      ]
     },
     "metadata": {
      "tags": []
     },
     "output_type": "display_data"
    },
    {
     "data": {
      "image/png": "[encoded data removed]",
      "text/plain": [
       "<matplotlib.figure.Figure at 0x7f3f792fac18>"
      ]
     },
     "metadata": {
      "tags": []
     },
     "output_type": "display_data"
    }
   ],
   "source": [
    "##########################################################\n",
    "# 결과 Plot 출력\n",
    "##########################################################\n",
    "plt.plot(train_error_summary, 'r', label='train')\n",
    "plt.plot(test_error_summary, 'b', label='test')\n",
    "plt.legend()\n",
    "plt.title('RMSE')\n",
    "plt.xlabel('Epoc(x100)')\n",
    "plt.ylabel('RMSE')\n",
    "plt.show()\n",
    "\n",
    "plt.plot(trainY, 'r', label='original')\n",
    "plt.plot(train_predict, 'b', label='predict')\n",
    "plt.legend()\n",
    "plt.xlabel('Sequence')\n",
    "plt.ylabel('price')\n",
    "plt.title('Train Data')\n",
    "plt.show()\n",
    "\n",
    "plt.plot(testY, 'r', label='original')\n",
    "plt.plot(test_predict, 'b', label='predict')\n",
    "plt.legend()\n",
    "plt.xlabel('Sequence')\n",
    "plt.ylabel('price')\n",
    "plt.title('Test Data')\n",
    "plt.show()"
   ]
  },
  {
   "cell_type": "code",
   "execution_count": 0,
   "metadata": {
    "colab": {
     "autoexec": {
      "startup": false,
      "wait_interval": 0
     },
     "output_extras": [
      {}
     ]
    },
    "colab_type": "code",
    "id": "6XeF7LLlwabL",
    "outputId": "b5b97c1e-abaf-430b-9d8b-419f8377f2da"
   },
   "outputs": [
    {
     "name": "stdout",
     "output_type": "stream",
     "text": [
      "recent_data.shape: (1, 28, 6)\n",
      "recent_data(Input): [[[0.79062566 0.79129905 0.77560774 0.7823422  0.7823422  0.04941364]\n",
      "  [0.772914   0.77985048 0.76308164 0.7682672  0.7682672  0.07519803]\n",
      "  [0.77170174 0.779177   0.76503469 0.77742607 0.77742607 0.04977954]\n",
      "  [0.77850361 0.80173748 0.77750016 0.79547448 0.79547448 0.04116722]\n",
      "  [0.79897632 0.80449863 0.79358873 0.80200681 0.80200681 0.03263434]\n",
      "  [0.79028892 0.79432953 0.77129769 0.77533841 0.77533841 0.03408564]\n",
      "  [0.77506897 0.78570943 0.77129769 0.77964846 0.77964846 0.02378554]\n",
      "  [0.78011981 0.78341974 0.77089364 0.77513638 0.77513638 0.02138274]\n",
      "  [0.77500166 0.78436256 0.76772843 0.77601179 0.77601179 0.02211566]\n",
      "  [0.80274093 0.85460303 0.79803351 0.85157244 0.85157244 0.09750541]\n",
      "  [0.86194357 0.86494035 0.83641991 0.85392955 0.85392955 0.06097109]\n",
      "  [0.86672498 0.87916353 0.85682532 0.86544552 0.86544552 0.05855375]\n",
      "  [0.87527777 0.89938715 0.8694255  0.89905041 0.89905041 0.05368437]\n",
      "  [0.8974342  0.90551554 0.88807331 0.89655869 0.89655869 0.04645509]\n",
      "  [0.90194628 0.91110515 0.88086739 0.89972389 0.89972389 0.0586332 ]\n",
      "  [0.88154087 0.89696274 0.87130447 0.89292202 0.89292202 0.05284701]\n",
      "  [0.89251797 0.89723208 0.88154087 0.88591823 0.88591823 0.03217071]\n",
      "  [0.89373023 0.89568318 0.87581654 0.8794531  0.8794531  0.02989249]\n",
      "  [0.89703005 0.9060543  0.83877701 0.84315437 0.84315437 0.08822394]\n",
      "  [0.84921544 0.85931713 0.82241232 0.8527847  0.8527847  0.06553872]\n",
      "  [0.85581519 0.86635463 0.84510742 0.85662329 0.85662329 0.03884834]\n",
      "  [0.86167413 0.86227353 0.84584821 0.85426629 0.85426629 0.0431698 ]\n",
      "  [0.86049568 0.86093334 0.83830555 0.85406426 0.85406426 0.04565764]\n",
      "  [0.86254965 0.91049897 0.85083165 0.90969087 0.90969087 0.10268623]\n",
      "  [0.92605566 0.95400363 0.91049897 0.93157786 0.93157786 0.11458982]\n",
      "  [0.93703276 0.95891975 0.92194763 0.95043437 0.95043437 0.07327863]\n",
      "  [0.96390329 0.99690211 0.95636073 0.9968348  0.9968348  0.07391756]\n",
      "  [0.99420836 1.         0.97393767 0.9819516  0.9819516  0.06763526]]]\n",
      "예측값(정규화 전) [0.29679507]\n",
      "예측값(역정규화 후) [172.51793]\n"
     ]
    }
   ],
   "source": [
    "# 내일 stock price 예측을 위해 Input 설정\n",
    "recent_data = np.array([x[len(x)-seq_length : ]])\n",
    "print(\"recent_data.shape:\", recent_data.shape)\n",
    "print(\"recent_data(Input):\", recent_data)\n",
    "\n",
    "recent_predict = sess.run(hypothesis, feed_dict={X: recent_data})\n",
    " \n",
    "print(\"예측값(정규화 전)\", test_predict[0])\n",
    "rev_test_predict = rev_max_min_scaling(price,recent_predict) # 금액 데이터 역정규화 함\n",
    "print(\"예측값(역정규화 후)\", rev_test_predict[0])            # 예측한 주가 출력"
   ]
  }
 ],
 "metadata": {
  "accelerator": "GPU",
  "colab": {
   "default_view": {},
   "name": "Begas_EDU_딥러닝_LSTM_Python.ipynb",
   "provenance": [],
   "version": "0.3.2",
   "views": {}
  },
  "kernelspec": {
   "display_name": "Python 3",
   "language": "python",
   "name": "python3"
  },
  "language_info": {
   "codemirror_mode": {
    "name": "ipython",
    "version": 3
   },
   "file_extension": ".py",
   "mimetype": "text/x-python",
   "name": "python",
   "nbconvert_exporter": "python",
   "pygments_lexer": "ipython3",
   "version": "3.6.4"
  }
 },
 "nbformat": 4,
 "nbformat_minor": 1
}
