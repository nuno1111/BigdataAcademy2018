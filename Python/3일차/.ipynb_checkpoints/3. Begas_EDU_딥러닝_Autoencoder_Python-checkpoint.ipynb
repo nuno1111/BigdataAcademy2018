{
 "cells": [
  {
   "cell_type": "code",
   "execution_count": 1,
   "metadata": {},
   "outputs": [
    {
     "name": "stderr",
     "output_type": "stream",
     "text": [
      "C:\\ProgramData\\Anaconda3\\lib\\site-packages\\h5py\\__init__.py:36: FutureWarning: Conversion of the second argument of issubdtype from `float` to `np.floating` is deprecated. In future, it will be treated as `np.float64 == np.dtype(float).type`.\n",
      "  from ._conv import register_converters as _register_converters\n"
     ]
    }
   ],
   "source": [
    "import tensorflow as tf\n",
    "import numpy as np\n",
    "import matplotlib.pyplot as plt\n",
    "import random\n",
    "from tensorflow.examples.tutorials.mnist import input_data"
   ]
  },
  {
   "cell_type": "markdown",
   "metadata": {},
   "source": [
    "# 1. Stacked Autoencoder"
   ]
  },
  {
   "cell_type": "code",
   "execution_count": 2,
   "metadata": {},
   "outputs": [
    {
     "name": "stdout",
     "output_type": "stream",
     "text": [
      "Successfully downloaded train-images-idx3-ubyte.gz 9912422 bytes.\n",
      "Extracting MNIST_data\\train-images-idx3-ubyte.gz\n",
      "Successfully downloaded train-labels-idx1-ubyte.gz 28881 bytes.\n",
      "Extracting MNIST_data\\train-labels-idx1-ubyte.gz\n",
      "Successfully downloaded t10k-images-idx3-ubyte.gz 1648877 bytes.\n",
      "Extracting MNIST_data\\t10k-images-idx3-ubyte.gz\n",
      "Successfully downloaded t10k-labels-idx1-ubyte.gz 4542 bytes.\n",
      "Extracting MNIST_data\\t10k-labels-idx1-ubyte.gz\n"
     ]
    }
   ],
   "source": [
    "# MNIST 데이터 생성\n",
    "# ont_hot = True는 Y의 레이블이 1이라면 [0,1,0,0,0,0,0,0,0,0] 처럼 0또는 1로 코딩해주는것\n",
    "mnist = input_data.read_data_sets('MNIST_data', one_hot=True)"
   ]
  },
  {
   "cell_type": "code",
   "execution_count": 3,
   "metadata": {},
   "outputs": [],
   "source": [
    "# Neural Net 파라미터 설정\n",
    "num_hidden_1 = 256 # 첫번째 레이어 개수\n",
    "num_hidden_2 = 128 # 두번째 레이어 개수\n",
    "num_input = 784 # MNIST (shape: 28*28)\n",
    "X = tf.placeholder(\"float\", [None, num_input])"
   ]
  },
  {
   "cell_type": "markdown",
   "metadata": {},
   "source": [
    "### 함수 정의"
   ]
  },
  {
   "cell_type": "markdown",
   "metadata": {},
   "source": [
    "random_normal\n",
    "- 평균이 0이고 표준편차가 1인 정규분포에서의 난수발생\n",
    "- weights : 가중치 함수 정의\n",
    "- bias : bias 함수 정의"
   ]
  },
  {
   "cell_type": "code",
   "execution_count": 4,
   "metadata": {},
   "outputs": [],
   "source": [
    "def weights(shape):\n",
    "    return tf.Variable(tf.random_normal(shape, stddev=0.01))\n",
    "\n",
    "def bias(shape):\n",
    "    return tf.Variable(tf.random_normal(shape))"
   ]
  },
  {
   "cell_type": "markdown",
   "metadata": {},
   "source": [
    "- encoder : layer가 2개인 encoder layer 함수 정의\n",
    "- decoder : layer가 2개인 decoder layer 함수 정의"
   ]
  },
  {
   "cell_type": "code",
   "execution_count": 5,
   "metadata": {},
   "outputs": [],
   "source": [
    "def encoder(x):\n",
    "    layer1 = tf.nn.sigmoid(tf.matmul(x, weights([num_input, num_hidden_1])) + bias([num_hidden_1]))\n",
    "    layer2 = tf.nn.sigmoid(tf.matmul(layer1, weights([num_hidden_1, num_hidden_2])) + bias([num_hidden_2]))\n",
    "    return layer2\n",
    "    \n",
    "def decoder(x):\n",
    "    layer1 = tf.nn.sigmoid(tf.matmul(x, weights([num_hidden_2, num_hidden_1])) + bias([num_hidden_1]))\n",
    "    layer2 = tf.nn.sigmoid(tf.matmul(layer1, weights([num_hidden_1, num_input])) + bias([num_input]))\n",
    "    return layer2"
   ]
  },
  {
   "cell_type": "markdown",
   "metadata": {},
   "source": [
    "### Hyper Parameter 및 Layer 구성"
   ]
  },
  {
   "cell_type": "code",
   "execution_count": 9,
   "metadata": {},
   "outputs": [],
   "source": [
    "# 학습 파라미터 설정\n",
    "learning_rate = 0.01\n",
    "num_steps = 30000\n",
    "batch_size = 256\n",
    "\n",
    "# Construct model\n",
    "encoder_op = encoder(X)\n",
    "decoder_op = decoder(encoder_op)\n",
    "\n",
    "# loss(cost) 함수를 만들기 위한 데이터 처리\n",
    "# Prediction(decoder까지 통과한 variable을 predictor로 설정)\n",
    "y_pred = decoder_op\n",
    "# Target 데이터는 input(Image)로 설정\n",
    "y_true = X\n",
    "\n",
    "# loss(cost)는 MSE, optimizer는 RMSProp\n",
    "loss = tf.reduce_mean(tf.pow(y_true - y_pred, 2))\n",
    "optimizer = tf.train.RMSPropOptimizer(learning_rate).minimize(loss)"
   ]
  },
  {
   "cell_type": "markdown",
   "metadata": {},
   "source": [
    "- 기본 학습 Parameter 설정\n",
    "- autoencoder는 비지도 학습이기 때문에 loss를 계산할 때 실제 x값을 target으로 설정하고 decoder를 통과한 재 구조화된 output을 예측값으로 보고 계산함"
   ]
  },
  {
   "cell_type": "markdown",
   "metadata": {},
   "source": [
    "### Training"
   ]
  },
  {
   "cell_type": "code",
   "execution_count": 10,
   "metadata": {
    "scrolled": true
   },
   "outputs": [
    {
     "name": "stdout",
     "output_type": "stream",
     "text": [
      "step 100, minibatch loss 0.181202\n",
      "step 200, minibatch loss 0.0698748\n",
      "step 300, minibatch loss 0.0644743\n",
      "step 400, minibatch loss 0.0597383\n",
      "step 500, minibatch loss 0.0570955\n",
      "step 600, minibatch loss 0.0494706\n",
      "step 700, minibatch loss 0.0457393\n",
      "step 800, minibatch loss 0.0393451\n",
      "step 900, minibatch loss 0.0362758\n",
      "step 1000, minibatch loss 0.0338071\n",
      "step 1100, minibatch loss 0.0328956\n",
      "step 1200, minibatch loss 0.0296682\n",
      "step 1300, minibatch loss 0.0309009\n",
      "step 1400, minibatch loss 0.0271609\n",
      "step 1500, minibatch loss 0.0230386\n",
      "step 1600, minibatch loss 0.0240576\n",
      "step 1700, minibatch loss 0.0225331\n",
      "step 1800, minibatch loss 0.0207874\n",
      "step 1900, minibatch loss 0.0207319\n",
      "step 2000, minibatch loss 0.0202817\n",
      "step 2100, minibatch loss 0.0196594\n",
      "step 2200, minibatch loss 0.0186865\n",
      "step 2300, minibatch loss 0.0176326\n",
      "step 2400, minibatch loss 0.0165321\n",
      "step 2500, minibatch loss 0.0184132\n",
      "step 2600, minibatch loss 0.0170798\n",
      "step 2700, minibatch loss 0.0165203\n",
      "step 2800, minibatch loss 0.0162327\n",
      "step 2900, minibatch loss 0.0157954\n",
      "step 3000, minibatch loss 0.0142978\n",
      "step 3100, minibatch loss 0.0141968\n",
      "step 3200, minibatch loss 0.0154663\n",
      "step 3300, minibatch loss 0.0142405\n",
      "step 3400, minibatch loss 0.0143164\n",
      "step 3500, minibatch loss 0.0135361\n",
      "step 3600, minibatch loss 0.0127352\n",
      "step 3700, minibatch loss 0.0127459\n",
      "step 3800, minibatch loss 0.012802\n",
      "step 3900, minibatch loss 0.0126087\n",
      "step 4000, minibatch loss 0.0120916\n",
      "step 4100, minibatch loss 0.0124579\n",
      "step 4200, minibatch loss 0.0120318\n",
      "step 4300, minibatch loss 0.0111059\n",
      "step 4400, minibatch loss 0.0119109\n",
      "step 4500, minibatch loss 0.011983\n",
      "step 4600, minibatch loss 0.0120608\n",
      "step 4700, minibatch loss 0.0107546\n",
      "step 4800, minibatch loss 0.0106521\n",
      "step 4900, minibatch loss 0.0114628\n",
      "step 5000, minibatch loss 0.0111358\n",
      "step 5100, minibatch loss 0.011368\n",
      "step 5200, minibatch loss 0.00987263\n",
      "step 5300, minibatch loss 0.0106103\n",
      "step 5400, minibatch loss 0.0107394\n",
      "step 5500, minibatch loss 0.0104794\n",
      "step 5600, minibatch loss 0.0104759\n",
      "step 5700, minibatch loss 0.0104934\n",
      "step 5800, minibatch loss 0.0100398\n",
      "step 5900, minibatch loss 0.00979937\n",
      "step 6000, minibatch loss 0.0107409\n",
      "step 6100, minibatch loss 0.0103532\n",
      "step 6200, minibatch loss 0.00914198\n",
      "step 6300, minibatch loss 0.00986328\n",
      "step 6400, minibatch loss 0.00962208\n",
      "step 6500, minibatch loss 0.00975791\n",
      "step 6600, minibatch loss 0.00959541\n",
      "step 6700, minibatch loss 0.0108119\n",
      "step 6800, minibatch loss 0.00936853\n",
      "step 6900, minibatch loss 0.00935885\n",
      "step 7000, minibatch loss 0.00953438\n",
      "step 7100, minibatch loss 0.00972318\n",
      "step 7200, minibatch loss 0.00981772\n",
      "step 7300, minibatch loss 0.0101197\n",
      "step 7400, minibatch loss 0.00982365\n",
      "step 7500, minibatch loss 0.00979521\n",
      "step 7600, minibatch loss 0.00831299\n",
      "step 7700, minibatch loss 0.00930034\n",
      "step 7800, minibatch loss 0.00963693\n",
      "step 7900, minibatch loss 0.00868212\n",
      "step 8000, minibatch loss 0.00910863\n",
      "step 8100, minibatch loss 0.00883222\n",
      "step 8200, minibatch loss 0.00875171\n",
      "step 8300, minibatch loss 0.00908616\n",
      "step 8400, minibatch loss 0.00950268\n",
      "step 8500, minibatch loss 0.00914483\n",
      "step 8600, minibatch loss 0.00871177\n",
      "step 8700, minibatch loss 0.00877213\n",
      "step 8800, minibatch loss 0.00875208\n",
      "step 8900, minibatch loss 0.00859118\n",
      "step 9000, minibatch loss 0.00793038\n",
      "step 9100, minibatch loss 0.00853776\n",
      "step 9200, minibatch loss 0.00861154\n",
      "step 9300, minibatch loss 0.00756079\n",
      "step 9400, minibatch loss 0.00868756\n",
      "step 9500, minibatch loss 0.00840406\n",
      "step 9600, minibatch loss 0.00817082\n",
      "step 9700, minibatch loss 0.00821393\n",
      "step 9800, minibatch loss 0.00838331\n",
      "step 9900, minibatch loss 0.0079652\n",
      "step 10000, minibatch loss 0.00764611\n",
      "step 10100, minibatch loss 0.00828368\n",
      "step 10200, minibatch loss 0.00809039\n",
      "step 10300, minibatch loss 0.00793589\n",
      "step 10400, minibatch loss 0.00800038\n",
      "step 10500, minibatch loss 0.00784381\n",
      "step 10600, minibatch loss 0.00763201\n",
      "step 10700, minibatch loss 0.00798625\n",
      "step 10800, minibatch loss 0.00739815\n",
      "step 10900, minibatch loss 0.00786244\n",
      "step 11000, minibatch loss 0.00779131\n",
      "step 11100, minibatch loss 0.00744964\n",
      "step 11200, minibatch loss 0.00788936\n",
      "step 11300, minibatch loss 0.00798575\n",
      "step 11400, minibatch loss 0.00756517\n",
      "step 11500, minibatch loss 0.00826513\n",
      "step 11600, minibatch loss 0.00787499\n",
      "step 11700, minibatch loss 0.00749573\n",
      "step 11800, minibatch loss 0.00759632\n",
      "step 11900, minibatch loss 0.00802319\n",
      "step 12000, minibatch loss 0.00719681\n",
      "step 12100, minibatch loss 0.00769783\n",
      "step 12200, minibatch loss 0.00775343\n",
      "step 12300, minibatch loss 0.00720303\n",
      "step 12400, minibatch loss 0.00751809\n",
      "step 12500, minibatch loss 0.0075136\n",
      "step 12600, minibatch loss 0.00814298\n",
      "step 12700, minibatch loss 0.00723302\n",
      "step 12800, minibatch loss 0.00776349\n",
      "step 12900, minibatch loss 0.00712803\n",
      "step 13000, minibatch loss 0.00749501\n",
      "step 13100, minibatch loss 0.00732948\n",
      "step 13200, minibatch loss 0.00688109\n",
      "step 13300, minibatch loss 0.00822286\n",
      "step 13400, minibatch loss 0.00714281\n",
      "step 13500, minibatch loss 0.00691467\n",
      "step 13600, minibatch loss 0.00709418\n",
      "step 13700, minibatch loss 0.00807047\n",
      "step 13800, minibatch loss 0.00696596\n",
      "step 13900, minibatch loss 0.00727576\n",
      "step 14000, minibatch loss 0.00701011\n",
      "step 14100, minibatch loss 0.00730924\n",
      "step 14200, minibatch loss 0.00649935\n",
      "step 14300, minibatch loss 0.00638673\n",
      "step 14400, minibatch loss 0.00682412\n",
      "step 14500, minibatch loss 0.00678388\n",
      "step 14600, minibatch loss 0.00799664\n",
      "step 14700, minibatch loss 0.00711302\n",
      "step 14800, minibatch loss 0.00717589\n",
      "step 14900, minibatch loss 0.00709972\n",
      "step 15000, minibatch loss 0.007015\n",
      "step 15100, minibatch loss 0.00641573\n",
      "step 15200, minibatch loss 0.00725884\n",
      "step 15300, minibatch loss 0.00683217\n",
      "step 15400, minibatch loss 0.00681311\n",
      "step 15500, minibatch loss 0.00699968\n",
      "step 15600, minibatch loss 0.00695889\n",
      "step 15700, minibatch loss 0.0072492\n",
      "step 15800, minibatch loss 0.00650388\n",
      "step 15900, minibatch loss 0.00674046\n",
      "step 16000, minibatch loss 0.00740143\n",
      "step 16100, minibatch loss 0.00723176\n",
      "step 16200, minibatch loss 0.00635871\n",
      "step 16300, minibatch loss 0.00690158\n",
      "step 16400, minibatch loss 0.00659439\n",
      "step 16500, minibatch loss 0.00654145\n",
      "step 16600, minibatch loss 0.006114\n",
      "step 16700, minibatch loss 0.00671855\n",
      "step 16800, minibatch loss 0.00659826\n",
      "step 16900, minibatch loss 0.00749734\n",
      "step 17000, minibatch loss 0.0065033\n",
      "step 17100, minibatch loss 0.0072195\n",
      "step 17200, minibatch loss 0.00580065\n",
      "step 17300, minibatch loss 0.00662779\n",
      "step 17400, minibatch loss 0.00645141\n",
      "step 17500, minibatch loss 0.00712438\n",
      "step 17600, minibatch loss 0.00710201\n",
      "step 17700, minibatch loss 0.00685415\n",
      "step 17800, minibatch loss 0.00632486\n",
      "step 17900, minibatch loss 0.00669192\n",
      "step 18000, minibatch loss 0.00729078\n",
      "step 18100, minibatch loss 0.00684783\n",
      "step 18200, minibatch loss 0.00687991\n",
      "step 18300, minibatch loss 0.00619044\n",
      "step 18400, minibatch loss 0.0060692\n",
      "step 18500, minibatch loss 0.00654337\n",
      "step 18600, minibatch loss 0.00645763\n",
      "step 18700, minibatch loss 0.00659034\n",
      "step 18800, minibatch loss 0.00613264\n",
      "step 18900, minibatch loss 0.00632239\n",
      "step 19000, minibatch loss 0.00690946\n",
      "step 19100, minibatch loss 0.00608673\n",
      "step 19200, minibatch loss 0.00671745\n",
      "step 19300, minibatch loss 0.0065061\n",
      "step 19400, minibatch loss 0.00594398\n",
      "step 19500, minibatch loss 0.00621087\n",
      "step 19600, minibatch loss 0.00648397\n",
      "step 19700, minibatch loss 0.00628936\n",
      "step 19800, minibatch loss 0.00642553\n",
      "step 19900, minibatch loss 0.00638052\n",
      "step 20000, minibatch loss 0.0062086\n",
      "step 20100, minibatch loss 0.00676732\n",
      "step 20200, minibatch loss 0.00642047\n",
      "step 20300, minibatch loss 0.00632869\n",
      "step 20400, minibatch loss 0.00603377\n",
      "step 20500, minibatch loss 0.00616102\n",
      "step 20600, minibatch loss 0.00603917\n",
      "step 20700, minibatch loss 0.00578418\n",
      "step 20800, minibatch loss 0.00686771\n",
      "step 20900, minibatch loss 0.00630055\n",
      "step 21000, minibatch loss 0.00582323\n",
      "step 21100, minibatch loss 0.00600448\n",
      "step 21200, minibatch loss 0.00610339\n",
      "step 21300, minibatch loss 0.0056526\n",
      "step 21400, minibatch loss 0.00619621\n",
      "step 21500, minibatch loss 0.00563685\n",
      "step 21600, minibatch loss 0.00559128\n",
      "step 21700, minibatch loss 0.00591709\n",
      "step 21800, minibatch loss 0.00585378\n",
      "step 21900, minibatch loss 0.00603115\n",
      "step 22000, minibatch loss 0.00665035\n",
      "step 22100, minibatch loss 0.00588125\n"
     ]
    },
    {
     "name": "stdout",
     "output_type": "stream",
     "text": [
      "step 22200, minibatch loss 0.00613094\n",
      "step 22300, minibatch loss 0.00591056\n",
      "step 22400, minibatch loss 0.00584875\n",
      "step 22500, minibatch loss 0.00560882\n",
      "step 22600, minibatch loss 0.00561069\n",
      "step 22700, minibatch loss 0.00551754\n",
      "step 22800, minibatch loss 0.00547412\n",
      "step 22900, minibatch loss 0.00592802\n",
      "step 23000, minibatch loss 0.00631865\n",
      "step 23100, minibatch loss 0.00608463\n",
      "step 23200, minibatch loss 0.00562245\n",
      "step 23300, minibatch loss 0.00612467\n",
      "step 23400, minibatch loss 0.00631963\n",
      "step 23500, minibatch loss 0.00579416\n",
      "step 23600, minibatch loss 0.00547785\n",
      "step 23700, minibatch loss 0.00591241\n",
      "step 23800, minibatch loss 0.00605042\n",
      "step 23900, minibatch loss 0.00634819\n",
      "step 24000, minibatch loss 0.00564406\n",
      "step 24100, minibatch loss 0.00585833\n",
      "step 24200, minibatch loss 0.00635875\n",
      "step 24300, minibatch loss 0.00578867\n",
      "step 24400, minibatch loss 0.00603885\n",
      "step 24500, minibatch loss 0.00574126\n",
      "step 24600, minibatch loss 0.00484831\n",
      "step 24700, minibatch loss 0.00575313\n",
      "step 24800, minibatch loss 0.00562895\n",
      "step 24900, minibatch loss 0.00599649\n",
      "step 25000, minibatch loss 0.00592957\n",
      "step 25100, minibatch loss 0.00562392\n",
      "step 25200, minibatch loss 0.00580463\n",
      "step 25300, minibatch loss 0.00639745\n",
      "step 25400, minibatch loss 0.0053415\n",
      "step 25500, minibatch loss 0.00586773\n",
      "step 25600, minibatch loss 0.00512916\n",
      "step 25700, minibatch loss 0.00577503\n",
      "step 25800, minibatch loss 0.00640187\n",
      "step 25900, minibatch loss 0.00596447\n",
      "step 26000, minibatch loss 0.00534869\n",
      "step 26100, minibatch loss 0.00499462\n",
      "step 26200, minibatch loss 0.00593632\n",
      "step 26300, minibatch loss 0.00546124\n",
      "step 26400, minibatch loss 0.00538066\n",
      "step 26500, minibatch loss 0.00577664\n",
      "step 26600, minibatch loss 0.00622066\n",
      "step 26700, minibatch loss 0.00580361\n",
      "step 26800, minibatch loss 0.00561117\n",
      "step 26900, minibatch loss 0.00568486\n",
      "step 27000, minibatch loss 0.00574357\n",
      "step 27100, minibatch loss 0.00550398\n",
      "step 27200, minibatch loss 0.00536137\n",
      "step 27300, minibatch loss 0.00609462\n",
      "step 27400, minibatch loss 0.00597986\n",
      "step 27500, minibatch loss 0.00593637\n",
      "step 27600, minibatch loss 0.00530104\n",
      "step 27700, minibatch loss 0.00555481\n",
      "step 27800, minibatch loss 0.00546919\n",
      "step 27900, minibatch loss 0.00629877\n",
      "step 28000, minibatch loss 0.00494278\n",
      "step 28100, minibatch loss 0.00518836\n",
      "step 28200, minibatch loss 0.00587912\n",
      "step 28300, minibatch loss 0.00523612\n",
      "step 28400, minibatch loss 0.00548843\n",
      "step 28500, minibatch loss 0.00544336\n",
      "step 28600, minibatch loss 0.00546455\n",
      "step 28700, minibatch loss 0.00561826\n",
      "step 28800, minibatch loss 0.00545339\n",
      "step 28900, minibatch loss 0.00538509\n",
      "step 29000, minibatch loss 0.00489362\n",
      "step 29100, minibatch loss 0.00537983\n",
      "step 29200, minibatch loss 0.00563652\n",
      "step 29300, minibatch loss 0.00515477\n",
      "step 29400, minibatch loss 0.00550629\n",
      "step 29500, minibatch loss 0.00592829\n",
      "step 29600, minibatch loss 0.00518948\n",
      "step 29700, minibatch loss 0.00556633\n",
      "step 29800, minibatch loss 0.00558148\n",
      "step 29900, minibatch loss 0.0052229\n",
      "step 30000, minibatch loss 0.00517204\n"
     ]
    }
   ],
   "source": [
    "# Initialize the variables (i.e. assign their default value)\n",
    "sess = tf.Session()\n",
    "sess.run(tf.global_variables_initializer())\n",
    "\n",
    "# 모델 Train\n",
    "for i in range(1, num_steps+1):\n",
    "    batch = mnist.train.next_batch(batch_size)\n",
    "    #Label은 필요 없기 때문에 image만 feed_dict으로 call\n",
    "    result = sess.run([optimizer, loss], feed_dict={X:batch[0]})\n",
    "    if i%100 == 0:\n",
    "        print(\"step %d, minibatch loss %g\"%(i, result[1]))"
   ]
  },
  {
   "cell_type": "markdown",
   "metadata": {},
   "source": [
    "- 학습 횟수가 늘어날수록 loss(cost)가 줄어드는것을 확인 가능"
   ]
  },
  {
   "cell_type": "markdown",
   "metadata": {},
   "source": [
    "### 결과"
   ]
  },
  {
   "cell_type": "code",
   "execution_count": 11,
   "metadata": {},
   "outputs": [
    {
     "name": "stdout",
     "output_type": "stream",
     "text": [
      "Origi Image\n"
     ]
    },
    {
     "data": {
      "image/png": "[encoded data removed]",
      "text/plain": [
       "<matplotlib.figure.Figure at 0x10435358>"
      ]
     },
     "metadata": {},
     "output_type": "display_data"
    },
    {
     "name": "stdout",
     "output_type": "stream",
     "text": [
      "Reconstructed Images\n"
     ]
    },
    {
     "data": {
      "image/png": "[encoded data removed]",
      "text/plain": [
       "<matplotlib.figure.Figure at 0x106fa940>"
      ]
     },
     "metadata": {},
     "output_type": "display_data"
    }
   ],
   "source": [
    "# Test (Encoding and Decoding)\n",
    "n = 3\n",
    "canvas_orig = np.empty((28 * n, 28 * n))\n",
    "canvas_recon = np.empty((28 * n, 28 * n))\n",
    "\n",
    "for i in range(n):\n",
    "    batch,_ = mnist.test.next_batch(n)    # 테스트 데이터\n",
    "    g = sess.run(decoder_op, feed_dict={X: batch})# 테스트 데이터를 학습 한 operator에 적합\n",
    "    for j in range(n):# 원본 이미지 생성\n",
    "        canvas_orig[i * 28:(i + 1) * 28, j * 28:(j + 1) * 28] = batch[j].reshape([28, 28])\n",
    "    for j in range(n): # 재 구조화 된 이미지 생성\n",
    "        canvas_recon[i * 28:(i + 1) * 28, j * 28:(j + 1) * 28] = g[j].reshape([28, 28])\n",
    "\n",
    "print(\"Origi Image\")\n",
    "plt.figure(figsize=(n, n))\n",
    "plt.imshow(canvas_orig, origin=\"upper\", cmap=\"gray\")\n",
    "plt.show()\n",
    "\n",
    "print(\"Reconstructed Images\")\n",
    "plt.figure(figsize=(n, n))\n",
    "plt.imshow(canvas_recon, origin=\"upper\", cmap=\"gray\")\n",
    "plt.show()"
   ]
  }
 ],
 "metadata": {
  "kernelspec": {
   "display_name": "Python 3",
   "language": "python",
   "name": "python3"
  },
  "language_info": {
   "codemirror_mode": {
    "name": "ipython",
    "version": 3
   },
   "file_extension": ".py",
   "mimetype": "text/x-python",
   "name": "python",
   "nbconvert_exporter": "python",
   "pygments_lexer": "ipython3",
   "version": "3.6.4"
  }
 },
 "nbformat": 4,
 "nbformat_minor": 2
}
