{
 "cells": [
  {
   "cell_type": "code",
   "execution_count": 1,
   "metadata": {},
   "outputs": [
    {
     "name": "stderr",
     "output_type": "stream",
     "text": [
      "C:\\ProgramData\\Anaconda3\\lib\\site-packages\\h5py\\__init__.py:36: FutureWarning: Conversion of the second argument of issubdtype from `float` to `np.floating` is deprecated. In future, it will be treated as `np.float64 == np.dtype(float).type`.\n",
      "  from ._conv import register_converters as _register_converters\n"
     ]
    }
   ],
   "source": [
    "import tensorflow as tf\n",
    "import numpy as np\n",
    "import matplotlib.pyplot as plt\n",
    "import random\n",
    "from tensorflow.examples.tutorials.mnist import input_data"
   ]
  },
  {
   "cell_type": "markdown",
   "metadata": {},
   "source": [
    "# 1. Stacked Autoencoder"
   ]
  },
  {
   "cell_type": "code",
   "execution_count": 7,
   "metadata": {},
   "outputs": [
    {
     "name": "stdout",
     "output_type": "stream",
     "text": [
      "Extracting MNIST_data\\train-images-idx3-ubyte.gz\n",
      "Extracting MNIST_data\\train-labels-idx1-ubyte.gz\n",
      "Extracting MNIST_data\\t10k-images-idx3-ubyte.gz\n",
      "Extracting MNIST_data\\t10k-labels-idx1-ubyte.gz\n"
     ]
    }
   ],
   "source": [
    "# MNIST 데이터 생성\n",
    "# ont_hot = True는 Y의 레이블이 1이라면 [0,1,0,0,0,0,0,0,0,0] 처럼 0또는 1로 코딩해주는것\n",
    "mnist = input_data.read_data_sets('MNIST_data', one_hot=True)"
   ]
  },
  {
   "cell_type": "code",
   "execution_count": 8,
   "metadata": {},
   "outputs": [],
   "source": [
    "# Neural Net 파라미터 설정\n",
    "num_hidden_1 = 256 # 첫번째 레이어 개수\n",
    "num_hidden_2 = 128 # 두번째 레이어 개수\n",
    "num_input = 784 # MNIST (shape: 28*28)\n",
    "X = tf.placeholder(\"float\", [None, num_input])"
   ]
  },
  {
   "cell_type": "markdown",
   "metadata": {},
   "source": [
    "### 함수 정의"
   ]
  },
  {
   "cell_type": "markdown",
   "metadata": {},
   "source": [
    "random_normal\n",
    "- 평균이 0이고 표준편차가 1인 정규분포에서의 난수발생\n",
    "- weights : 가중치 함수 정의\n",
    "- bias : bias 함수 정의"
   ]
  },
  {
   "cell_type": "code",
   "execution_count": 10,
   "metadata": {},
   "outputs": [],
   "source": [
    "def weights(shape):\n",
    "    return tf.Variable(tf.random_normal(shape, stddev=0.01))\n",
    "\n",
    "def bias(shape):\n",
    "    return tf.Variable(tf.random_normal(shape))"
   ]
  },
  {
   "cell_type": "markdown",
   "metadata": {},
   "source": [
    "- encoder : layer가 2개인 encoder layer 함수 정의\n",
    "- decoder : layer가 2개인 decoder layer 함수 정의"
   ]
  },
  {
   "cell_type": "code",
   "execution_count": 11,
   "metadata": {},
   "outputs": [],
   "source": [
    "def encoder(x):\n",
    "    layer1 = tf.nn.sigmoid(tf.matmul(x, weights([num_input, num_hidden_1])) + bias([num_hidden_1]))\n",
    "    layer2 = tf.nn.sigmoid(tf.matmul(layer1, weights([num_hidden_1, num_hidden_2])) + bias([num_hidden_2]))\n",
    "    return layer2\n",
    "    \n",
    "def decoder(x):\n",
    "    layer1 = tf.nn.sigmoid(tf.matmul(x, weights([num_hidden_2, num_hidden_1])) + bias([num_hidden_1]))\n",
    "    layer2 = tf.nn.sigmoid(tf.matmul(layer1, weights([num_hidden_1, num_input])) + bias([num_input]))\n",
    "    return layer2"
   ]
  },
  {
   "cell_type": "markdown",
   "metadata": {},
   "source": [
    "### Hyper Parameter 및 Layer 구성"
   ]
  },
  {
   "cell_type": "code",
   "execution_count": 12,
   "metadata": {},
   "outputs": [],
   "source": [
    "# 학습 파라미터 설정\n",
    "learning_rate = 0.01\n",
    "num_steps = 30000\n",
    "batch_size = 256\n",
    "\n",
    "# Construct model\n",
    "encoder_op = encoder(X)\n",
    "decoder_op = decoder(encoder_op)\n",
    "\n",
    "# loss(cost) 함수를 만들기 위한 데이터 처리\n",
    "# Prediction(decoder까지 통과한 variable을 predictor로 설정)\n",
    "y_pred = decoder_op\n",
    "# Target 데이터는 input(Image)로 설정\n",
    "y_true = X\n",
    "\n",
    "# loss(cost)는 MSE, optimizer는 RMSProp\n",
    "loss = tf.reduce_mean(tf.pow(y_true - y_pred, 2))\n",
    "optimizer = tf.train.RMSPropOptimizer(learning_rate).minimize(loss)"
   ]
  },
  {
   "cell_type": "markdown",
   "metadata": {},
   "source": [
    "- 기본 학습 Parameter 설정\n",
    "- autoencoder는 비지도 학습이기 때문에 loss를 계산할 때 실제 x값을 target으로 설정하고 decoder를 통과한 재 구조화된 output을 예측값으로 보고 계산함"
   ]
  },
  {
   "cell_type": "markdown",
   "metadata": {},
   "source": [
    "### Training"
   ]
  },
  {
   "cell_type": "code",
   "execution_count": 13,
   "metadata": {
    "scrolled": true
   },
   "outputs": [
    {
     "name": "stdout",
     "output_type": "stream",
     "text": [
      "step 100, minibatch loss 0.164742\n",
      "step 200, minibatch loss 0.0702121\n",
      "step 300, minibatch loss 0.0638513\n",
      "step 400, minibatch loss 0.059021\n",
      "step 500, minibatch loss 0.0546915\n",
      "step 600, minibatch loss 0.0507771\n",
      "step 700, minibatch loss 0.0437936\n",
      "step 800, minibatch loss 0.0367094\n",
      "step 900, minibatch loss 0.036019\n",
      "step 1000, minibatch loss 0.0342591\n",
      "step 1100, minibatch loss 0.0311699\n",
      "step 1200, minibatch loss 0.0298048\n",
      "step 1300, minibatch loss 0.0283626\n",
      "step 1400, minibatch loss 0.0255249\n",
      "step 1500, minibatch loss 0.0235763\n",
      "step 1600, minibatch loss 0.0225316\n",
      "step 1700, minibatch loss 0.0222778\n",
      "step 1800, minibatch loss 0.022107\n",
      "step 1900, minibatch loss 0.02124\n",
      "step 2000, minibatch loss 0.0214499\n",
      "step 2100, minibatch loss 0.0186986\n",
      "step 2200, minibatch loss 0.0197167\n",
      "step 2300, minibatch loss 0.0185621\n",
      "step 2400, minibatch loss 0.0171332\n",
      "step 2500, minibatch loss 0.0181511\n",
      "step 2600, minibatch loss 0.0160747\n",
      "step 2700, minibatch loss 0.0163971\n",
      "step 2800, minibatch loss 0.0161129\n",
      "step 2900, minibatch loss 0.0152389\n",
      "step 3000, minibatch loss 0.0145424\n",
      "step 3100, minibatch loss 0.0139487\n",
      "step 3200, minibatch loss 0.0138624\n",
      "step 3300, minibatch loss 0.0147382\n",
      "step 3400, minibatch loss 0.0137572\n",
      "step 3500, minibatch loss 0.013516\n",
      "step 3600, minibatch loss 0.0126042\n",
      "step 3700, minibatch loss 0.0126187\n",
      "step 3800, minibatch loss 0.0133659\n",
      "step 3900, minibatch loss 0.0120982\n",
      "step 4000, minibatch loss 0.0135807\n",
      "step 4100, minibatch loss 0.0123645\n",
      "step 4200, minibatch loss 0.0119318\n",
      "step 4300, minibatch loss 0.0117347\n",
      "step 4400, minibatch loss 0.0123887\n",
      "step 4500, minibatch loss 0.0121559\n",
      "step 4600, minibatch loss 0.0123667\n",
      "step 4700, minibatch loss 0.0120173\n",
      "step 4800, minibatch loss 0.011817\n",
      "step 4900, minibatch loss 0.0115175\n",
      "step 5000, minibatch loss 0.0114863\n",
      "step 5100, minibatch loss 0.0104269\n",
      "step 5200, minibatch loss 0.0110127\n",
      "step 5300, minibatch loss 0.0106473\n",
      "step 5400, minibatch loss 0.010782\n",
      "step 5500, minibatch loss 0.0109748\n",
      "step 5600, minibatch loss 0.0104485\n",
      "step 5700, minibatch loss 0.0107897\n",
      "step 5800, minibatch loss 0.00993017\n",
      "step 5900, minibatch loss 0.0110274\n",
      "step 6000, minibatch loss 0.0099347\n",
      "step 6100, minibatch loss 0.00997746\n",
      "step 6200, minibatch loss 0.00968545\n",
      "step 6300, minibatch loss 0.0106245\n",
      "step 6400, minibatch loss 0.0103253\n",
      "step 6500, minibatch loss 0.00979861\n",
      "step 6600, minibatch loss 0.00987293\n",
      "step 6700, minibatch loss 0.0104698\n",
      "step 6800, minibatch loss 0.00905037\n",
      "step 6900, minibatch loss 0.00947974\n",
      "step 7000, minibatch loss 0.0100493\n",
      "step 7100, minibatch loss 0.00887996\n",
      "step 7200, minibatch loss 0.00973683\n",
      "step 7300, minibatch loss 0.00879686\n",
      "step 7400, minibatch loss 0.00953527\n",
      "step 7500, minibatch loss 0.00989734\n",
      "step 7600, minibatch loss 0.00894183\n",
      "step 7700, minibatch loss 0.00937319\n",
      "step 7800, minibatch loss 0.00842547\n",
      "step 7900, minibatch loss 0.00982253\n",
      "step 8000, minibatch loss 0.00901202\n",
      "step 8100, minibatch loss 0.00977456\n",
      "step 8200, minibatch loss 0.00895429\n",
      "step 8300, minibatch loss 0.00936914\n",
      "step 8400, minibatch loss 0.00837106\n",
      "step 8500, minibatch loss 0.0086776\n",
      "step 8600, minibatch loss 0.00908786\n",
      "step 8700, minibatch loss 0.00877244\n",
      "step 8800, minibatch loss 0.00862414\n",
      "step 8900, minibatch loss 0.00853219\n",
      "step 9000, minibatch loss 0.00822182\n",
      "step 9100, minibatch loss 0.00889963\n",
      "step 9200, minibatch loss 0.0081592\n",
      "step 9300, minibatch loss 0.00927246\n",
      "step 9400, minibatch loss 0.00885841\n",
      "step 9500, minibatch loss 0.00821506\n",
      "step 9600, minibatch loss 0.00779001\n",
      "step 9700, minibatch loss 0.00857619\n",
      "step 9800, minibatch loss 0.00780028\n",
      "step 9900, minibatch loss 0.0088159\n",
      "step 10000, minibatch loss 0.00786264\n",
      "step 10100, minibatch loss 0.00927574\n",
      "step 10200, minibatch loss 0.00786733\n",
      "step 10300, minibatch loss 0.00811017\n",
      "step 10400, minibatch loss 0.0076763\n",
      "step 10500, minibatch loss 0.00787123\n",
      "step 10600, minibatch loss 0.00787786\n",
      "step 10700, minibatch loss 0.00764115\n",
      "step 10800, minibatch loss 0.00790663\n",
      "step 10900, minibatch loss 0.00691029\n",
      "step 11000, minibatch loss 0.00777165\n",
      "step 11100, minibatch loss 0.00840251\n",
      "step 11200, minibatch loss 0.00730288\n",
      "step 11300, minibatch loss 0.00765471\n",
      "step 11400, minibatch loss 0.00724129\n",
      "step 11500, minibatch loss 0.00746822\n",
      "step 11600, minibatch loss 0.00823227\n",
      "step 11700, minibatch loss 0.00716771\n",
      "step 11800, minibatch loss 0.00784947\n",
      "step 11900, minibatch loss 0.00800009\n",
      "step 12000, minibatch loss 0.0068553\n",
      "step 12100, minibatch loss 0.00756382\n",
      "step 12200, minibatch loss 0.00704597\n",
      "step 12300, minibatch loss 0.0078792\n",
      "step 12400, minibatch loss 0.00749449\n",
      "step 12500, minibatch loss 0.00764893\n",
      "step 12600, minibatch loss 0.00836033\n",
      "step 12700, minibatch loss 0.00743684\n",
      "step 12800, minibatch loss 0.00692987\n",
      "step 12900, minibatch loss 0.00765535\n",
      "step 13000, minibatch loss 0.00703721\n",
      "step 13100, minibatch loss 0.00760599\n",
      "step 13200, minibatch loss 0.00748981\n",
      "step 13300, minibatch loss 0.0069434\n",
      "step 13400, minibatch loss 0.00762727\n",
      "step 13500, minibatch loss 0.00706038\n",
      "step 13600, minibatch loss 0.00699711\n",
      "step 13700, minibatch loss 0.00780694\n",
      "step 13800, minibatch loss 0.00753478\n",
      "step 13900, minibatch loss 0.00677042\n",
      "step 14000, minibatch loss 0.00691398\n",
      "step 14100, minibatch loss 0.0063409\n",
      "step 14200, minibatch loss 0.00670005\n",
      "step 14300, minibatch loss 0.00730162\n",
      "step 14400, minibatch loss 0.00709064\n",
      "step 14500, minibatch loss 0.0069291\n",
      "step 14600, minibatch loss 0.00771892\n",
      "step 14700, minibatch loss 0.00787725\n",
      "step 14800, minibatch loss 0.00717574\n",
      "step 14900, minibatch loss 0.00659732\n",
      "step 15000, minibatch loss 0.00713516\n",
      "step 15100, minibatch loss 0.00692925\n",
      "step 15200, minibatch loss 0.00716428\n",
      "step 15300, minibatch loss 0.00668795\n",
      "step 15400, minibatch loss 0.00707708\n",
      "step 15500, minibatch loss 0.0067103\n",
      "step 15600, minibatch loss 0.00722976\n",
      "step 15700, minibatch loss 0.0071482\n",
      "step 15800, minibatch loss 0.00624319\n",
      "step 15900, minibatch loss 0.00708332\n",
      "step 16000, minibatch loss 0.00626957\n",
      "step 16100, minibatch loss 0.00676799\n",
      "step 16200, minibatch loss 0.00660847\n",
      "step 16300, minibatch loss 0.00652655\n",
      "step 16400, minibatch loss 0.00644544\n",
      "step 16500, minibatch loss 0.00637192\n",
      "step 16600, minibatch loss 0.00727814\n",
      "step 16700, minibatch loss 0.00634092\n",
      "step 16800, minibatch loss 0.00606328\n",
      "step 16900, minibatch loss 0.00569906\n",
      "step 17000, minibatch loss 0.00612014\n",
      "step 17100, minibatch loss 0.00649572\n",
      "step 17200, minibatch loss 0.00616049\n",
      "step 17300, minibatch loss 0.0067291\n",
      "step 17400, minibatch loss 0.00633937\n",
      "step 17500, minibatch loss 0.00623694\n",
      "step 17600, minibatch loss 0.00695767\n",
      "step 17700, minibatch loss 0.00660297\n",
      "step 17800, minibatch loss 0.00626109\n",
      "step 17900, minibatch loss 0.00640302\n",
      "step 18000, minibatch loss 0.0066077\n",
      "step 18100, minibatch loss 0.00651573\n",
      "step 18200, minibatch loss 0.00620663\n",
      "step 18300, minibatch loss 0.0061961\n",
      "step 18400, minibatch loss 0.00649317\n",
      "step 18500, minibatch loss 0.00603783\n",
      "step 18600, minibatch loss 0.00628709\n",
      "step 18700, minibatch loss 0.0071114\n",
      "step 18800, minibatch loss 0.00627734\n",
      "step 18900, minibatch loss 0.0059392\n",
      "step 19000, minibatch loss 0.00600745\n",
      "step 19100, minibatch loss 0.00609323\n",
      "step 19200, minibatch loss 0.00622018\n",
      "step 19300, minibatch loss 0.00643136\n",
      "step 19400, minibatch loss 0.00619796\n",
      "step 19500, minibatch loss 0.00559703\n",
      "step 19600, minibatch loss 0.0064361\n",
      "step 19700, minibatch loss 0.006028\n",
      "step 19800, minibatch loss 0.00563638\n",
      "step 19900, minibatch loss 0.00615218\n",
      "step 20000, minibatch loss 0.00588804\n",
      "step 20100, minibatch loss 0.00564406\n",
      "step 20200, minibatch loss 0.00588175\n",
      "step 20300, minibatch loss 0.0063254\n",
      "step 20400, minibatch loss 0.00566741\n",
      "step 20500, minibatch loss 0.00571633\n",
      "step 20600, minibatch loss 0.00575893\n",
      "step 20700, minibatch loss 0.00559746\n",
      "step 20800, minibatch loss 0.0065561\n",
      "step 20900, minibatch loss 0.00617273\n",
      "step 21000, minibatch loss 0.00564478\n",
      "step 21100, minibatch loss 0.00646518\n",
      "step 21200, minibatch loss 0.00624228\n",
      "step 21300, minibatch loss 0.00608992\n",
      "step 21400, minibatch loss 0.00572788\n",
      "step 21500, minibatch loss 0.00565048\n",
      "step 21600, minibatch loss 0.00573121\n",
      "step 21700, minibatch loss 0.00569416\n",
      "step 21800, minibatch loss 0.00552031\n",
      "step 21900, minibatch loss 0.00556443\n",
      "step 22000, minibatch loss 0.00642036\n",
      "step 22100, minibatch loss 0.00597589\n"
     ]
    },
    {
     "name": "stdout",
     "output_type": "stream",
     "text": [
      "step 22200, minibatch loss 0.00560333\n",
      "step 22300, minibatch loss 0.00631\n",
      "step 22400, minibatch loss 0.00654669\n",
      "step 22500, minibatch loss 0.00577359\n",
      "step 22600, minibatch loss 0.00606935\n",
      "step 22700, minibatch loss 0.00540642\n",
      "step 22800, minibatch loss 0.00643374\n",
      "step 22900, minibatch loss 0.00615284\n",
      "step 23000, minibatch loss 0.00551995\n",
      "step 23100, minibatch loss 0.00596553\n",
      "step 23200, minibatch loss 0.00523618\n",
      "step 23300, minibatch loss 0.00575131\n",
      "step 23400, minibatch loss 0.00610431\n",
      "step 23500, minibatch loss 0.00582601\n",
      "step 23600, minibatch loss 0.00583239\n",
      "step 23700, minibatch loss 0.00587967\n",
      "step 23800, minibatch loss 0.00520437\n",
      "step 23900, minibatch loss 0.00579397\n",
      "step 24000, minibatch loss 0.00512135\n",
      "step 24100, minibatch loss 0.00544322\n",
      "step 24200, minibatch loss 0.00631128\n",
      "step 24300, minibatch loss 0.00542356\n",
      "step 24400, minibatch loss 0.00580272\n",
      "step 24500, minibatch loss 0.00588962\n",
      "step 24600, minibatch loss 0.00571365\n",
      "step 24700, minibatch loss 0.00584937\n",
      "step 24800, minibatch loss 0.00560186\n",
      "step 24900, minibatch loss 0.00534913\n",
      "step 25000, minibatch loss 0.0056451\n",
      "step 25100, minibatch loss 0.00558506\n",
      "step 25200, minibatch loss 0.00539988\n",
      "step 25300, minibatch loss 0.00588978\n",
      "step 25400, minibatch loss 0.00597036\n",
      "step 25500, minibatch loss 0.00576978\n",
      "step 25600, minibatch loss 0.00581775\n",
      "step 25700, minibatch loss 0.00550411\n",
      "step 25800, minibatch loss 0.00529513\n",
      "step 25900, minibatch loss 0.00559818\n",
      "step 26000, minibatch loss 0.00549518\n",
      "step 26100, minibatch loss 0.00541806\n",
      "step 26200, minibatch loss 0.006056\n",
      "step 26300, minibatch loss 0.00525106\n",
      "step 26400, minibatch loss 0.0055543\n",
      "step 26500, minibatch loss 0.00537048\n",
      "step 26600, minibatch loss 0.00569015\n",
      "step 26700, minibatch loss 0.00576021\n",
      "step 26800, minibatch loss 0.00543971\n",
      "step 26900, minibatch loss 0.0052959\n",
      "step 27000, minibatch loss 0.0053598\n",
      "step 27100, minibatch loss 0.00503668\n",
      "step 27200, minibatch loss 0.00625271\n",
      "step 27300, minibatch loss 0.00545501\n",
      "step 27400, minibatch loss 0.00521458\n",
      "step 27500, minibatch loss 0.00527501\n",
      "step 27600, minibatch loss 0.00594933\n",
      "step 27700, minibatch loss 0.00567535\n",
      "step 27800, minibatch loss 0.00484926\n",
      "step 27900, minibatch loss 0.00527476\n",
      "step 28000, minibatch loss 0.00507583\n",
      "step 28100, minibatch loss 0.00544784\n",
      "step 28200, minibatch loss 0.00539576\n",
      "step 28300, minibatch loss 0.00551969\n",
      "step 28400, minibatch loss 0.00588271\n",
      "step 28500, minibatch loss 0.00556164\n",
      "step 28600, minibatch loss 0.00570903\n",
      "step 28700, minibatch loss 0.0051489\n",
      "step 28800, minibatch loss 0.00553259\n",
      "step 28900, minibatch loss 0.00533107\n",
      "step 29000, minibatch loss 0.0052966\n",
      "step 29100, minibatch loss 0.00512923\n",
      "step 29200, minibatch loss 0.00590326\n",
      "step 29300, minibatch loss 0.00517702\n",
      "step 29400, minibatch loss 0.00508834\n",
      "step 29500, minibatch loss 0.00537181\n",
      "step 29600, minibatch loss 0.00589485\n",
      "step 29700, minibatch loss 0.00513991\n",
      "step 29800, minibatch loss 0.00546874\n",
      "step 29900, minibatch loss 0.00541873\n",
      "step 30000, minibatch loss 0.00525591\n"
     ]
    }
   ],
   "source": [
    "# Initialize the variables (i.e. assign their default value)\n",
    "sess = tf.Session()\n",
    "sess.run(tf.global_variables_initializer())\n",
    "\n",
    "# 모델 Train\n",
    "for i in range(1, num_steps+1):\n",
    "    batch = mnist.train.next_batch(batch_size)\n",
    "    #Label은 필요 없기 때문에 image만 feed_dict으로 call\n",
    "    result = sess.run([optimizer, loss], feed_dict={X:batch[0]})\n",
    "    if i%100 == 0:\n",
    "        print(\"step %d, minibatch loss %g\"%(i, result[1]))"
   ]
  },
  {
   "cell_type": "markdown",
   "metadata": {},
   "source": [
    "- 학습 횟수가 늘어날수록 loss(cost)가 줄어드는것을 확인 가능"
   ]
  },
  {
   "cell_type": "markdown",
   "metadata": {},
   "source": [
    "### 결과"
   ]
  },
  {
   "cell_type": "code",
   "execution_count": 82,
   "metadata": {},
   "outputs": [
    {
     "name": "stdout",
     "output_type": "stream",
     "text": [
      "Original Images\n"
     ]
    },
    {
     "data": {
      "image/png": "[encoded data removed]",
      "text/plain": [
       "<matplotlib.figure.Figure at 0x11d59358>"
      ]
     },
     "metadata": {},
     "output_type": "display_data"
    },
    {
     "name": "stdout",
     "output_type": "stream",
     "text": [
      "Reconstructed Images\n"
     ]
    },
    {
     "data": {
      "image/png": "[encoded data removed]",
      "text/plain": [
       "<matplotlib.figure.Figure at 0x111e3f60>"
      ]
     },
     "metadata": {},
     "output_type": "display_data"
    }
   ],
   "source": [
    "# Test (Encoding and Decoding)\n",
    "n = 5\n",
    "canvas_orig = np.empty((28 * n, 28 * n))\n",
    "canvas_recon = np.empty((28 * n, 28 * n))\n",
    "\n",
    "for i in range(n):\n",
    "    batch,_ = mnist.test.next_batch(n)    # 테스트 데이터\n",
    "    g = sess.run(decoder_op, feed_dict={X: batch})# 테스트 데이터를 학습 한 operator에 적합\n",
    "    for j in range(n):# 원본 이미지 생성\n",
    "        canvas_orig[i * 28:(i + 1) * 28, j * 28:(j + 1) * 28] = batch[j].reshape([28, 28])\n",
    "    for j in range(n): # 재 구조화 된 이미지 생성\n",
    "        canvas_recon[i * 28:(i + 1) * 28, j * 28:(j + 1) * 28] = g[j].reshape([28, 28])\n",
    "\n",
    "print(\"Original Images\")\n",
    "plt.figure(figsize=(n, n))\n",
    "plt.imshow(canvas_orig, origin=\"upper\", cmap=\"gray\")\n",
    "plt.show()\n",
    "\n",
    "print(\"Reconstructed Images\")\n",
    "plt.figure(figsize=(n, n))\n",
    "plt.imshow(canvas_recon, origin=\"upper\", cmap=\"gray\")\n",
    "plt.show()"
   ]
  },
  {
   "cell_type": "code",
   "execution_count": null,
   "metadata": {},
   "outputs": [],
   "source": []
  }
 ],
 "metadata": {
  "kernelspec": {
   "display_name": "Python 3",
   "language": "python",
   "name": "python3"
  },
  "language_info": {
   "codemirror_mode": {
    "name": "ipython",
    "version": 3
   },
   "file_extension": ".py",
   "mimetype": "text/x-python",
   "name": "python",
   "nbconvert_exporter": "python",
   "pygments_lexer": "ipython3",
   "version": "3.6.4"
  }
 },
 "nbformat": 4,
 "nbformat_minor": 2
}
